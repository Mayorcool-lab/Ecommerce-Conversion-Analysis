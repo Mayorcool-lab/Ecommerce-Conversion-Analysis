{
 "cells": [
  {
   "cell_type": "markdown",
   "id": "fac70e60",
   "metadata": {},
   "source": [
    "### 🛍️ E-Commerce Funnel Analysis & Conversion Optimization  \n",
    "📊 Tools Used: Python, Pandas, Matplotlib, Seaborn\n",
    "\n",
    "---\n",
    "\n",
    "##### 🎯 Project Objective\n",
    "This project investigates the conversion performance of an e-commerce platform using simulated session and transaction data. It aims to answer key business questions:\n",
    "\n",
    "- Where do users drop off in the funnel?  \n",
    "- Which customer segments convert best?  \n",
    "- When are users most likely to purchase?  \n",
    "- How much revenue is generated and by whom?\n",
    "---\n",
    "\n",
    "##### 📁 Datasets Overview\n",
    "\n",
    "| Dataset            | Description                                                  |\n",
    "|--------------------|--------------------------------------------------------------|\n",
    "| `users.csv`         | 200 users: device type, traffic source, user type, location |\n",
    "| `clickstream.csv`   | 10,434 records of page views, session steps, events         |\n",
    "| `transactions.csv`  | 134 confirmed orders with purchase values and timestamps    |\n",
    "\n",
    "---\n",
    "\n",
    "#### 🧭 Project Analysis Roadmap\n",
    "A structured pipeline for behavioral and revenue insights:\n",
    "\n",
    "---\n",
    "##### 📦 STEP 1: Setup & Data Loading  \n",
    "- Import Python libraries  \n",
    "- Load datasets (`users`, `clickstream`, `transactions`)  \n",
    "- Preview structure and sample rows\n",
    "---\n",
    "\n",
    "##### 🧹 STEP 2: Data Cleaning & Exploratory Analysis  \n",
    "- Convert timestamps to datetime format  \n",
    "- Handle missing values and invalid entries  \n",
    "- Merge datasets into unified view  \n",
    "- Summary statistics and initial data profiling\n",
    "---\n",
    "\n",
    "##### 📈 STEP 3: Measure Conversions  \n",
    "- Total purchase events  \n",
    "- Unique buyers  \n",
    "- Conversion rate  \n",
    "- Repeat purchase rate\n",
    "---\n",
    "\n",
    "##### 💰 STEP 4: Revenue Analysis  \n",
    "- Total revenue  \n",
    "- Average Order Value (AOV)  \n",
    "- Max/Min purchase amounts  \n",
    "- Time-based revenue trends\n",
    "---\n",
    "\n",
    "##### 🧍 STEP 5: Segment Buyer Behavior  \n",
    "- Conversion & revenue breakdown by:\n",
    "  - `device_type`\n",
    "  - `traffic_source`\n",
    "  - `location`\n",
    "---\n",
    "\n",
    "##### ⏱️ STEP 6: Conversion Timing  \n",
    "- Time-of-day and day-of-week purchasing patterns  \n",
    "- Average funnel duration  \n",
    "- Fast vs. delayed converters\n",
    "---\n",
    "\n",
    "##### 🧯 STEP 7: Funnel Drop-Off Insights  \n",
    "- Homepage → Purchase funnel analysis  \n",
    "- Drop-offs by funnel stage  \n",
    "- UX issues inferred from `device_type` or segment\n",
    "---"
   ]
  },
  {
   "cell_type": "markdown",
   "id": "dae5cd80",
   "metadata": {},
   "source": [
    "##### 📦 STEP 1: Setup & Initial Data Load\n",
    "In this section, we:\n",
    "- Import all required libraries\n",
    "- Load the 3 key datasets: 'users.csv', 'clickstream.csv', and 'transactions.csv'\n",
    "- Preview and understand the structure of each dataset"
   ]
  },
  {
   "cell_type": "code",
   "execution_count": 52,
   "id": "1f1b2ac6",
   "metadata": {},
   "outputs": [
    {
     "data": {
      "text/plain": [
       "['Clickstream.csv', 'Transactions.csv', 'Users.csv']"
      ]
     },
     "execution_count": 52,
     "metadata": {},
     "output_type": "execute_result"
    }
   ],
   "source": [
    "import os\n",
    "os.listdir()"
   ]
  },
  {
   "cell_type": "code",
   "execution_count": 47,
   "id": "813ad841",
   "metadata": {},
   "outputs": [],
   "source": [
    "# Import required libraries\n",
    "import pandas as pd\n",
    "import matplotlib.pyplot as plt\n",
    "import pandas as pd\n",
    "import os\n",
    "from datetime import datetime, timedelta\n",
    "import uuid"
   ]
  },
  {
   "cell_type": "code",
   "execution_count": 57,
   "id": "b342c1b9",
   "metadata": {},
   "outputs": [],
   "source": [
    "# Load the three data sets\n",
    "import pandas as pd\n",
    "clickstream = pd.read_csv(\"Clickstream.csv\")\n",
    "transactions = pd.read_csv(\"Transactions.csv\")\n",
    "users = pd.read_csv(\"Users.csv\")"
   ]
  },
  {
   "cell_type": "code",
   "execution_count": 58,
   "id": "1b53fb49",
   "metadata": {},
   "outputs": [
    {
     "data": {
      "text/html": [
       "<div>\n",
       "<style scoped>\n",
       "    .dataframe tbody tr th:only-of-type {\n",
       "        vertical-align: middle;\n",
       "    }\n",
       "\n",
       "    .dataframe tbody tr th {\n",
       "        vertical-align: top;\n",
       "    }\n",
       "\n",
       "    .dataframe thead th {\n",
       "        text-align: right;\n",
       "    }\n",
       "</style>\n",
       "<table border=\"1\" class=\"dataframe\">\n",
       "  <thead>\n",
       "    <tr style=\"text-align: right;\">\n",
       "      <th></th>\n",
       "      <th>user_id</th>\n",
       "      <th>device_type</th>\n",
       "      <th>traffic_source</th>\n",
       "      <th>user_type</th>\n",
       "      <th>location</th>\n",
       "    </tr>\n",
       "  </thead>\n",
       "  <tbody>\n",
       "    <tr>\n",
       "      <th>0</th>\n",
       "      <td>U001</td>\n",
       "      <td>tablet</td>\n",
       "      <td>paid_search</td>\n",
       "      <td>new</td>\n",
       "      <td>Suriname</td>\n",
       "    </tr>\n",
       "    <tr>\n",
       "      <th>1</th>\n",
       "      <td>U002</td>\n",
       "      <td>desktop</td>\n",
       "      <td>paid_search</td>\n",
       "      <td>new</td>\n",
       "      <td>Croatia</td>\n",
       "    </tr>\n",
       "    <tr>\n",
       "      <th>2</th>\n",
       "      <td>U003</td>\n",
       "      <td>desktop</td>\n",
       "      <td>organic</td>\n",
       "      <td>returning</td>\n",
       "      <td>Egypt</td>\n",
       "    </tr>\n",
       "  </tbody>\n",
       "</table>\n",
       "</div>"
      ],
      "text/plain": [
       "  user_id device_type traffic_source  user_type  location\n",
       "0    U001      tablet    paid_search        new  Suriname\n",
       "1    U002     desktop    paid_search        new   Croatia\n",
       "2    U003     desktop        organic  returning     Egypt"
      ]
     },
     "execution_count": 58,
     "metadata": {},
     "output_type": "execute_result"
    }
   ],
   "source": [
    "# Preview first 3 rows of each\n",
    "users.head(3)"
   ]
  },
  {
   "cell_type": "code",
   "execution_count": 59,
   "id": "1b35bae5",
   "metadata": {},
   "outputs": [
    {
     "data": {
      "text/html": [
       "<div>\n",
       "<style scoped>\n",
       "    .dataframe tbody tr th:only-of-type {\n",
       "        vertical-align: middle;\n",
       "    }\n",
       "\n",
       "    .dataframe tbody tr th {\n",
       "        vertical-align: top;\n",
       "    }\n",
       "\n",
       "    .dataframe thead th {\n",
       "        text-align: right;\n",
       "    }\n",
       "</style>\n",
       "<table border=\"1\" class=\"dataframe\">\n",
       "  <thead>\n",
       "    <tr style=\"text-align: right;\">\n",
       "      <th></th>\n",
       "      <th>user_id</th>\n",
       "      <th>session_id</th>\n",
       "      <th>timestamp</th>\n",
       "      <th>page_name</th>\n",
       "      <th>event_type</th>\n",
       "      <th>product_id</th>\n",
       "    </tr>\n",
       "  </thead>\n",
       "  <tbody>\n",
       "    <tr>\n",
       "      <th>0</th>\n",
       "      <td>U001</td>\n",
       "      <td>9979256b</td>\n",
       "      <td>2024-05-03 11:19:00</td>\n",
       "      <td>homepage</td>\n",
       "      <td>page_view</td>\n",
       "      <td>NaN</td>\n",
       "    </tr>\n",
       "    <tr>\n",
       "      <th>1</th>\n",
       "      <td>U001</td>\n",
       "      <td>9979256b</td>\n",
       "      <td>2024-05-03 11:21:00</td>\n",
       "      <td>product_page</td>\n",
       "      <td>page_view</td>\n",
       "      <td>P146</td>\n",
       "    </tr>\n",
       "    <tr>\n",
       "      <th>2</th>\n",
       "      <td>U001</td>\n",
       "      <td>9979256b</td>\n",
       "      <td>2024-05-03 11:23:00</td>\n",
       "      <td>cart</td>\n",
       "      <td>scroll</td>\n",
       "      <td>P181</td>\n",
       "    </tr>\n",
       "  </tbody>\n",
       "</table>\n",
       "</div>"
      ],
      "text/plain": [
       "  user_id session_id            timestamp     page_name event_type product_id\n",
       "0    U001   9979256b  2024-05-03 11:19:00      homepage  page_view        NaN\n",
       "1    U001   9979256b  2024-05-03 11:21:00  product_page  page_view       P146\n",
       "2    U001   9979256b  2024-05-03 11:23:00          cart     scroll       P181"
      ]
     },
     "execution_count": 59,
     "metadata": {},
     "output_type": "execute_result"
    }
   ],
   "source": [
    "clickstream.head(3)"
   ]
  },
  {
   "cell_type": "code",
   "execution_count": 60,
   "id": "42cf9d53",
   "metadata": {},
   "outputs": [
    {
     "data": {
      "text/html": [
       "<div>\n",
       "<style scoped>\n",
       "    .dataframe tbody tr th:only-of-type {\n",
       "        vertical-align: middle;\n",
       "    }\n",
       "\n",
       "    .dataframe tbody tr th {\n",
       "        vertical-align: top;\n",
       "    }\n",
       "\n",
       "    .dataframe thead th {\n",
       "        text-align: right;\n",
       "    }\n",
       "</style>\n",
       "<table border=\"1\" class=\"dataframe\">\n",
       "  <thead>\n",
       "    <tr style=\"text-align: right;\">\n",
       "      <th></th>\n",
       "      <th>user_id</th>\n",
       "      <th>order_id</th>\n",
       "      <th>order_amount</th>\n",
       "      <th>timestamp</th>\n",
       "    </tr>\n",
       "  </thead>\n",
       "  <tbody>\n",
       "    <tr>\n",
       "      <th>0</th>\n",
       "      <td>U166</td>\n",
       "      <td>T8636</td>\n",
       "      <td>246.92</td>\n",
       "      <td>2024-05-02 20:49:00</td>\n",
       "    </tr>\n",
       "    <tr>\n",
       "      <th>1</th>\n",
       "      <td>U147</td>\n",
       "      <td>T7675</td>\n",
       "      <td>106.82</td>\n",
       "      <td>2024-05-01 10:39:00</td>\n",
       "    </tr>\n",
       "    <tr>\n",
       "      <th>2</th>\n",
       "      <td>NaN</td>\n",
       "      <td>T9810</td>\n",
       "      <td>173.69</td>\n",
       "      <td>2024-05-03 21:57:00</td>\n",
       "    </tr>\n",
       "  </tbody>\n",
       "</table>\n",
       "</div>"
      ],
      "text/plain": [
       "  user_id order_id  order_amount            timestamp\n",
       "0    U166    T8636        246.92  2024-05-02 20:49:00\n",
       "1    U147    T7675        106.82  2024-05-01 10:39:00\n",
       "2     NaN    T9810        173.69  2024-05-03 21:57:00"
      ]
     },
     "execution_count": 60,
     "metadata": {},
     "output_type": "execute_result"
    }
   ],
   "source": [
    "transactions.head(3)"
   ]
  },
  {
   "cell_type": "code",
   "execution_count": 61,
   "id": "9b4fac55",
   "metadata": {},
   "outputs": [
    {
     "data": {
      "text/html": [
       "<div>\n",
       "<style scoped>\n",
       "    .dataframe tbody tr th:only-of-type {\n",
       "        vertical-align: middle;\n",
       "    }\n",
       "\n",
       "    .dataframe tbody tr th {\n",
       "        vertical-align: top;\n",
       "    }\n",
       "\n",
       "    .dataframe thead th {\n",
       "        text-align: right;\n",
       "    }\n",
       "</style>\n",
       "<table border=\"1\" class=\"dataframe\">\n",
       "  <thead>\n",
       "    <tr style=\"text-align: right;\">\n",
       "      <th></th>\n",
       "      <th>user_id</th>\n",
       "      <th>order_id</th>\n",
       "      <th>order_amount</th>\n",
       "      <th>timestamp</th>\n",
       "    </tr>\n",
       "  </thead>\n",
       "  <tbody>\n",
       "    <tr>\n",
       "      <th>0</th>\n",
       "      <td>U166</td>\n",
       "      <td>T8636</td>\n",
       "      <td>246.92</td>\n",
       "      <td>2024-05-02 20:49:00</td>\n",
       "    </tr>\n",
       "    <tr>\n",
       "      <th>1</th>\n",
       "      <td>U147</td>\n",
       "      <td>T7675</td>\n",
       "      <td>106.82</td>\n",
       "      <td>2024-05-01 10:39:00</td>\n",
       "    </tr>\n",
       "    <tr>\n",
       "      <th>2</th>\n",
       "      <td>NaN</td>\n",
       "      <td>T9810</td>\n",
       "      <td>173.69</td>\n",
       "      <td>2024-05-03 21:57:00</td>\n",
       "    </tr>\n",
       "    <tr>\n",
       "      <th>3</th>\n",
       "      <td>U089</td>\n",
       "      <td>T4700</td>\n",
       "      <td>267.24</td>\n",
       "      <td>2024-05-03 16:58:00</td>\n",
       "    </tr>\n",
       "    <tr>\n",
       "      <th>4</th>\n",
       "      <td>U044</td>\n",
       "      <td>T2333</td>\n",
       "      <td>121.84</td>\n",
       "      <td>2024-05-02 22:42:00</td>\n",
       "    </tr>\n",
       "  </tbody>\n",
       "</table>\n",
       "</div>"
      ],
      "text/plain": [
       "  user_id order_id  order_amount            timestamp\n",
       "0    U166    T8636        246.92  2024-05-02 20:49:00\n",
       "1    U147    T7675        106.82  2024-05-01 10:39:00\n",
       "2     NaN    T9810        173.69  2024-05-03 21:57:00\n",
       "3    U089    T4700        267.24  2024-05-03 16:58:00\n",
       "4    U044    T2333        121.84  2024-05-02 22:42:00"
      ]
     },
     "execution_count": 61,
     "metadata": {},
     "output_type": "execute_result"
    }
   ],
   "source": [
    "transactions.head()"
   ]
  },
  {
   "cell_type": "markdown",
   "id": "884bdc36",
   "metadata": {},
   "source": [
    "#### 🧹 STEP 2: Data Cleaning & Formatting\n",
    "In this step, we:\n",
    "- Inspect column data types using `.info()`\n",
    "- Convert timestamp fields to datetime format\n",
    "- Handle missing values (e.g., in `product_id`)\n",
    "- Validate that all tables are clean and ready for merging\n"
   ]
  },
  {
   "cell_type": "code",
   "execution_count": 62,
   "id": "4d83a4ff",
   "metadata": {},
   "outputs": [],
   "source": [
    "###Check data types and null values"
   ]
  },
  {
   "cell_type": "code",
   "execution_count": 63,
   "id": "99fe1422",
   "metadata": {},
   "outputs": [
    {
     "name": "stdout",
     "output_type": "stream",
     "text": [
      "<class 'pandas.core.frame.DataFrame'>\n",
      "RangeIndex: 200 entries, 0 to 199\n",
      "Data columns (total 5 columns):\n",
      " #   Column          Non-Null Count  Dtype \n",
      "---  ------          --------------  ----- \n",
      " 0   user_id         200 non-null    object\n",
      " 1   device_type     200 non-null    object\n",
      " 2   traffic_source  200 non-null    object\n",
      " 3   user_type       200 non-null    object\n",
      " 4   location        200 non-null    object\n",
      "dtypes: object(5)\n",
      "memory usage: 7.9+ KB\n"
     ]
    }
   ],
   "source": [
    "users.info()"
   ]
  },
  {
   "cell_type": "code",
   "execution_count": 64,
   "id": "51a2ae53",
   "metadata": {},
   "outputs": [
    {
     "name": "stdout",
     "output_type": "stream",
     "text": [
      "<class 'pandas.core.frame.DataFrame'>\n",
      "RangeIndex: 10434 entries, 0 to 10433\n",
      "Data columns (total 6 columns):\n",
      " #   Column      Non-Null Count  Dtype \n",
      "---  ------      --------------  ----- \n",
      " 0   user_id     10434 non-null  object\n",
      " 1   session_id  10434 non-null  object\n",
      " 2   timestamp   10434 non-null  object\n",
      " 3   page_name   10434 non-null  object\n",
      " 4   event_type  10434 non-null  object\n",
      " 5   product_id  5213 non-null   object\n",
      "dtypes: object(6)\n",
      "memory usage: 489.2+ KB\n"
     ]
    }
   ],
   "source": [
    "clickstream.info()"
   ]
  },
  {
   "cell_type": "code",
   "execution_count": 65,
   "id": "2f2b6fd3",
   "metadata": {},
   "outputs": [
    {
     "name": "stdout",
     "output_type": "stream",
     "text": [
      "<class 'pandas.core.frame.DataFrame'>\n",
      "RangeIndex: 150 entries, 0 to 149\n",
      "Data columns (total 4 columns):\n",
      " #   Column        Non-Null Count  Dtype  \n",
      "---  ------        --------------  -----  \n",
      " 0   user_id       134 non-null    object \n",
      " 1   order_id      150 non-null    object \n",
      " 2   order_amount  150 non-null    float64\n",
      " 3   timestamp     150 non-null    object \n",
      "dtypes: float64(1), object(3)\n",
      "memory usage: 4.8+ KB\n"
     ]
    }
   ],
   "source": [
    "transactions.info()"
   ]
  },
  {
   "cell_type": "code",
   "execution_count": 66,
   "id": "2deb0d8f",
   "metadata": {},
   "outputs": [
    {
     "data": {
      "text/html": [
       "<div>\n",
       "<style scoped>\n",
       "    .dataframe tbody tr th:only-of-type {\n",
       "        vertical-align: middle;\n",
       "    }\n",
       "\n",
       "    .dataframe tbody tr th {\n",
       "        vertical-align: top;\n",
       "    }\n",
       "\n",
       "    .dataframe thead th {\n",
       "        text-align: right;\n",
       "    }\n",
       "</style>\n",
       "<table border=\"1\" class=\"dataframe\">\n",
       "  <thead>\n",
       "    <tr style=\"text-align: right;\">\n",
       "      <th></th>\n",
       "      <th>user_id</th>\n",
       "      <th>device_type</th>\n",
       "      <th>traffic_source</th>\n",
       "      <th>user_type</th>\n",
       "      <th>location</th>\n",
       "    </tr>\n",
       "  </thead>\n",
       "  <tbody>\n",
       "    <tr>\n",
       "      <th>count</th>\n",
       "      <td>200</td>\n",
       "      <td>200</td>\n",
       "      <td>200</td>\n",
       "      <td>200</td>\n",
       "      <td>200</td>\n",
       "    </tr>\n",
       "    <tr>\n",
       "      <th>unique</th>\n",
       "      <td>200</td>\n",
       "      <td>3</td>\n",
       "      <td>5</td>\n",
       "      <td>2</td>\n",
       "      <td>137</td>\n",
       "    </tr>\n",
       "    <tr>\n",
       "      <th>top</th>\n",
       "      <td>U001</td>\n",
       "      <td>mobile</td>\n",
       "      <td>direct</td>\n",
       "      <td>new</td>\n",
       "      <td>Kuwait</td>\n",
       "    </tr>\n",
       "    <tr>\n",
       "      <th>freq</th>\n",
       "      <td>1</td>\n",
       "      <td>70</td>\n",
       "      <td>46</td>\n",
       "      <td>108</td>\n",
       "      <td>4</td>\n",
       "    </tr>\n",
       "  </tbody>\n",
       "</table>\n",
       "</div>"
      ],
      "text/plain": [
       "       user_id device_type traffic_source user_type location\n",
       "count      200         200            200       200      200\n",
       "unique     200           3              5         2      137\n",
       "top       U001      mobile         direct       new   Kuwait\n",
       "freq         1          70             46       108        4"
      ]
     },
     "execution_count": 66,
     "metadata": {},
     "output_type": "execute_result"
    }
   ],
   "source": [
    "# We explore the explore numerical patterns or categorical frequencies\n",
    "users.describe()"
   ]
  },
  {
   "cell_type": "code",
   "execution_count": 67,
   "id": "6f194c2d",
   "metadata": {},
   "outputs": [
    {
     "data": {
      "text/html": [
       "<div>\n",
       "<style scoped>\n",
       "    .dataframe tbody tr th:only-of-type {\n",
       "        vertical-align: middle;\n",
       "    }\n",
       "\n",
       "    .dataframe tbody tr th {\n",
       "        vertical-align: top;\n",
       "    }\n",
       "\n",
       "    .dataframe thead th {\n",
       "        text-align: right;\n",
       "    }\n",
       "</style>\n",
       "<table border=\"1\" class=\"dataframe\">\n",
       "  <thead>\n",
       "    <tr style=\"text-align: right;\">\n",
       "      <th></th>\n",
       "      <th>user_id</th>\n",
       "      <th>session_id</th>\n",
       "      <th>timestamp</th>\n",
       "      <th>page_name</th>\n",
       "      <th>event_type</th>\n",
       "      <th>product_id</th>\n",
       "    </tr>\n",
       "  </thead>\n",
       "  <tbody>\n",
       "    <tr>\n",
       "      <th>count</th>\n",
       "      <td>10434</td>\n",
       "      <td>10434</td>\n",
       "      <td>10434</td>\n",
       "      <td>10434</td>\n",
       "      <td>10434</td>\n",
       "      <td>5213</td>\n",
       "    </tr>\n",
       "    <tr>\n",
       "      <th>unique</th>\n",
       "      <td>200</td>\n",
       "      <td>2985</td>\n",
       "      <td>2655</td>\n",
       "      <td>5</td>\n",
       "      <td>3</td>\n",
       "      <td>100</td>\n",
       "    </tr>\n",
       "    <tr>\n",
       "      <th>top</th>\n",
       "      <td>U018</td>\n",
       "      <td>b5383494</td>\n",
       "      <td>2024-05-01 17:38:00</td>\n",
       "      <td>homepage</td>\n",
       "      <td>scroll</td>\n",
       "      <td>P160</td>\n",
       "    </tr>\n",
       "    <tr>\n",
       "      <th>freq</th>\n",
       "      <td>74</td>\n",
       "      <td>5</td>\n",
       "      <td>13</td>\n",
       "      <td>2985</td>\n",
       "      <td>3496</td>\n",
       "      <td>70</td>\n",
       "    </tr>\n",
       "  </tbody>\n",
       "</table>\n",
       "</div>"
      ],
      "text/plain": [
       "       user_id session_id            timestamp page_name event_type product_id\n",
       "count    10434      10434                10434     10434      10434       5213\n",
       "unique     200       2985                 2655         5          3        100\n",
       "top       U018   b5383494  2024-05-01 17:38:00  homepage     scroll       P160\n",
       "freq        74          5                   13      2985       3496         70"
      ]
     },
     "execution_count": 67,
     "metadata": {},
     "output_type": "execute_result"
    }
   ],
   "source": [
    "clickstream.describe()"
   ]
  },
  {
   "cell_type": "code",
   "execution_count": 68,
   "id": "e86eea16",
   "metadata": {},
   "outputs": [
    {
     "data": {
      "text/html": [
       "<div>\n",
       "<style scoped>\n",
       "    .dataframe tbody tr th:only-of-type {\n",
       "        vertical-align: middle;\n",
       "    }\n",
       "\n",
       "    .dataframe tbody tr th {\n",
       "        vertical-align: top;\n",
       "    }\n",
       "\n",
       "    .dataframe thead th {\n",
       "        text-align: right;\n",
       "    }\n",
       "</style>\n",
       "<table border=\"1\" class=\"dataframe\">\n",
       "  <thead>\n",
       "    <tr style=\"text-align: right;\">\n",
       "      <th></th>\n",
       "      <th>order_amount</th>\n",
       "    </tr>\n",
       "  </thead>\n",
       "  <tbody>\n",
       "    <tr>\n",
       "      <th>count</th>\n",
       "      <td>150.000000</td>\n",
       "    </tr>\n",
       "    <tr>\n",
       "      <th>mean</th>\n",
       "      <td>151.463400</td>\n",
       "    </tr>\n",
       "    <tr>\n",
       "      <th>std</th>\n",
       "      <td>76.070755</td>\n",
       "    </tr>\n",
       "    <tr>\n",
       "      <th>min</th>\n",
       "      <td>24.490000</td>\n",
       "    </tr>\n",
       "    <tr>\n",
       "      <th>25%</th>\n",
       "      <td>88.607500</td>\n",
       "    </tr>\n",
       "    <tr>\n",
       "      <th>50%</th>\n",
       "      <td>146.975000</td>\n",
       "    </tr>\n",
       "    <tr>\n",
       "      <th>75%</th>\n",
       "      <td>215.607500</td>\n",
       "    </tr>\n",
       "    <tr>\n",
       "      <th>max</th>\n",
       "      <td>299.610000</td>\n",
       "    </tr>\n",
       "  </tbody>\n",
       "</table>\n",
       "</div>"
      ],
      "text/plain": [
       "       order_amount\n",
       "count    150.000000\n",
       "mean     151.463400\n",
       "std       76.070755\n",
       "min       24.490000\n",
       "25%       88.607500\n",
       "50%      146.975000\n",
       "75%      215.607500\n",
       "max      299.610000"
      ]
     },
     "execution_count": 68,
     "metadata": {},
     "output_type": "execute_result"
    }
   ],
   "source": [
    "transactions.describe()"
   ]
  },
  {
   "cell_type": "code",
   "execution_count": 69,
   "id": "fa77e7a3",
   "metadata": {},
   "outputs": [],
   "source": [
    "#Convert timestamp columns to datetime\n",
    "#Two corrections to made on clickstream.1.Correct the timestamp in \"object\" to \"datetime\". \n",
    "#Fill missing product_id values with 'unknown'"
   ]
  },
  {
   "cell_type": "code",
   "execution_count": 70,
   "id": "8a05c942",
   "metadata": {},
   "outputs": [],
   "source": [
    "clickstream[\"timestamp\"] = pd.to_datetime(clickstream[\"timestamp\"])"
   ]
  },
  {
   "cell_type": "code",
   "execution_count": 71,
   "id": "a6488d1f",
   "metadata": {},
   "outputs": [],
   "source": [
    "#Fill Null with \"unknown\"\n",
    "clickstream[\"product_id\"] = clickstream[\"product_id\"].fillna(\"Unknown\")"
   ]
  },
  {
   "cell_type": "code",
   "execution_count": 72,
   "id": "c7999816",
   "metadata": {},
   "outputs": [
    {
     "name": "stdout",
     "output_type": "stream",
     "text": [
      "<class 'pandas.core.frame.DataFrame'>\n",
      "RangeIndex: 10434 entries, 0 to 10433\n",
      "Data columns (total 6 columns):\n",
      " #   Column      Non-Null Count  Dtype         \n",
      "---  ------      --------------  -----         \n",
      " 0   user_id     10434 non-null  object        \n",
      " 1   session_id  10434 non-null  object        \n",
      " 2   timestamp   10434 non-null  datetime64[ns]\n",
      " 3   page_name   10434 non-null  object        \n",
      " 4   event_type  10434 non-null  object        \n",
      " 5   product_id  10434 non-null  object        \n",
      "dtypes: datetime64[ns](1), object(5)\n",
      "memory usage: 489.2+ KB\n"
     ]
    }
   ],
   "source": [
    "# Now recheck\n",
    "clickstream.info()"
   ]
  },
  {
   "cell_type": "code",
   "execution_count": 73,
   "id": "0dcfb726",
   "metadata": {},
   "outputs": [
    {
     "data": {
      "text/html": [
       "<div>\n",
       "<style scoped>\n",
       "    .dataframe tbody tr th:only-of-type {\n",
       "        vertical-align: middle;\n",
       "    }\n",
       "\n",
       "    .dataframe tbody tr th {\n",
       "        vertical-align: top;\n",
       "    }\n",
       "\n",
       "    .dataframe thead th {\n",
       "        text-align: right;\n",
       "    }\n",
       "</style>\n",
       "<table border=\"1\" class=\"dataframe\">\n",
       "  <thead>\n",
       "    <tr style=\"text-align: right;\">\n",
       "      <th></th>\n",
       "      <th>user_id</th>\n",
       "      <th>session_id</th>\n",
       "      <th>timestamp</th>\n",
       "      <th>page_name</th>\n",
       "      <th>event_type</th>\n",
       "      <th>product_id</th>\n",
       "    </tr>\n",
       "  </thead>\n",
       "  <tbody>\n",
       "    <tr>\n",
       "      <th>0</th>\n",
       "      <td>U001</td>\n",
       "      <td>9979256b</td>\n",
       "      <td>2024-05-03 11:19:00</td>\n",
       "      <td>homepage</td>\n",
       "      <td>page_view</td>\n",
       "      <td>Unknown</td>\n",
       "    </tr>\n",
       "    <tr>\n",
       "      <th>1</th>\n",
       "      <td>U001</td>\n",
       "      <td>9979256b</td>\n",
       "      <td>2024-05-03 11:21:00</td>\n",
       "      <td>product_page</td>\n",
       "      <td>page_view</td>\n",
       "      <td>P146</td>\n",
       "    </tr>\n",
       "    <tr>\n",
       "      <th>2</th>\n",
       "      <td>U001</td>\n",
       "      <td>9979256b</td>\n",
       "      <td>2024-05-03 11:23:00</td>\n",
       "      <td>cart</td>\n",
       "      <td>scroll</td>\n",
       "      <td>P181</td>\n",
       "    </tr>\n",
       "    <tr>\n",
       "      <th>3</th>\n",
       "      <td>U001</td>\n",
       "      <td>9979256b</td>\n",
       "      <td>2024-05-03 11:34:00</td>\n",
       "      <td>checkout</td>\n",
       "      <td>page_view</td>\n",
       "      <td>Unknown</td>\n",
       "    </tr>\n",
       "    <tr>\n",
       "      <th>4</th>\n",
       "      <td>U001</td>\n",
       "      <td>29b4ac40</td>\n",
       "      <td>2024-05-02 14:48:00</td>\n",
       "      <td>homepage</td>\n",
       "      <td>scroll</td>\n",
       "      <td>Unknown</td>\n",
       "    </tr>\n",
       "    <tr>\n",
       "      <th>...</th>\n",
       "      <td>...</td>\n",
       "      <td>...</td>\n",
       "      <td>...</td>\n",
       "      <td>...</td>\n",
       "      <td>...</td>\n",
       "      <td>...</td>\n",
       "    </tr>\n",
       "    <tr>\n",
       "      <th>10429</th>\n",
       "      <td>U200</td>\n",
       "      <td>b5383494</td>\n",
       "      <td>2024-05-02 18:24:00</td>\n",
       "      <td>homepage</td>\n",
       "      <td>scroll</td>\n",
       "      <td>Unknown</td>\n",
       "    </tr>\n",
       "    <tr>\n",
       "      <th>10430</th>\n",
       "      <td>U200</td>\n",
       "      <td>b5383494</td>\n",
       "      <td>2024-05-02 18:28:00</td>\n",
       "      <td>product_page</td>\n",
       "      <td>click</td>\n",
       "      <td>P170</td>\n",
       "    </tr>\n",
       "    <tr>\n",
       "      <th>10431</th>\n",
       "      <td>U200</td>\n",
       "      <td>b5383494</td>\n",
       "      <td>2024-05-02 18:32:00</td>\n",
       "      <td>cart</td>\n",
       "      <td>scroll</td>\n",
       "      <td>P160</td>\n",
       "    </tr>\n",
       "    <tr>\n",
       "      <th>10432</th>\n",
       "      <td>U200</td>\n",
       "      <td>b5383494</td>\n",
       "      <td>2024-05-02 18:33:00</td>\n",
       "      <td>checkout</td>\n",
       "      <td>click</td>\n",
       "      <td>Unknown</td>\n",
       "    </tr>\n",
       "    <tr>\n",
       "      <th>10433</th>\n",
       "      <td>U200</td>\n",
       "      <td>b5383494</td>\n",
       "      <td>2024-05-02 18:36:00</td>\n",
       "      <td>purchase</td>\n",
       "      <td>scroll</td>\n",
       "      <td>Unknown</td>\n",
       "    </tr>\n",
       "  </tbody>\n",
       "</table>\n",
       "<p>10434 rows × 6 columns</p>\n",
       "</div>"
      ],
      "text/plain": [
       "      user_id session_id           timestamp     page_name event_type  \\\n",
       "0        U001   9979256b 2024-05-03 11:19:00      homepage  page_view   \n",
       "1        U001   9979256b 2024-05-03 11:21:00  product_page  page_view   \n",
       "2        U001   9979256b 2024-05-03 11:23:00          cart     scroll   \n",
       "3        U001   9979256b 2024-05-03 11:34:00      checkout  page_view   \n",
       "4        U001   29b4ac40 2024-05-02 14:48:00      homepage     scroll   \n",
       "...       ...        ...                 ...           ...        ...   \n",
       "10429    U200   b5383494 2024-05-02 18:24:00      homepage     scroll   \n",
       "10430    U200   b5383494 2024-05-02 18:28:00  product_page      click   \n",
       "10431    U200   b5383494 2024-05-02 18:32:00          cart     scroll   \n",
       "10432    U200   b5383494 2024-05-02 18:33:00      checkout      click   \n",
       "10433    U200   b5383494 2024-05-02 18:36:00      purchase     scroll   \n",
       "\n",
       "      product_id  \n",
       "0        Unknown  \n",
       "1           P146  \n",
       "2           P181  \n",
       "3        Unknown  \n",
       "4        Unknown  \n",
       "...          ...  \n",
       "10429    Unknown  \n",
       "10430       P170  \n",
       "10431       P160  \n",
       "10432    Unknown  \n",
       "10433    Unknown  \n",
       "\n",
       "[10434 rows x 6 columns]"
      ]
     },
     "execution_count": 73,
     "metadata": {},
     "output_type": "execute_result"
    }
   ],
   "source": [
    "clickstream"
   ]
  },
  {
   "cell_type": "code",
   "execution_count": null,
   "id": "3362a764",
   "metadata": {},
   "outputs": [],
   "source": [
    "#Save the cleaned clickstream  to csv\n",
    "#clickstream.to_csv(\"data/cleaned_clickstream.csv\") "
   ]
  },
  {
   "cell_type": "code",
   "execution_count": 75,
   "id": "e4fe67f2",
   "metadata": {},
   "outputs": [],
   "source": [
    "#Convert timestamp columns to datetime\n",
    "transactions[\"timestamp\"] = pd.to_datetime(transactions[\"timestamp\"])"
   ]
  },
  {
   "cell_type": "code",
   "execution_count": 76,
   "id": "9b38622b",
   "metadata": {},
   "outputs": [
    {
     "name": "stdout",
     "output_type": "stream",
     "text": [
      "<class 'pandas.core.frame.DataFrame'>\n",
      "RangeIndex: 150 entries, 0 to 149\n",
      "Data columns (total 4 columns):\n",
      " #   Column        Non-Null Count  Dtype         \n",
      "---  ------        --------------  -----         \n",
      " 0   user_id       134 non-null    object        \n",
      " 1   order_id      150 non-null    object        \n",
      " 2   order_amount  150 non-null    float64       \n",
      " 3   timestamp     150 non-null    datetime64[ns]\n",
      "dtypes: datetime64[ns](1), float64(1), object(2)\n",
      "memory usage: 4.8+ KB\n"
     ]
    }
   ],
   "source": [
    "transactions.info()"
   ]
  },
  {
   "cell_type": "code",
   "execution_count": 77,
   "id": "1242c636",
   "metadata": {},
   "outputs": [],
   "source": [
    "#Drop Null user_id Rows\n",
    "transactions = transactions.dropna(subset=[\"user_id\"])"
   ]
  },
  {
   "cell_type": "code",
   "execution_count": 78,
   "id": "fb8a3f83",
   "metadata": {},
   "outputs": [
    {
     "name": "stdout",
     "output_type": "stream",
     "text": [
      "<class 'pandas.core.frame.DataFrame'>\n",
      "Index: 134 entries, 0 to 149\n",
      "Data columns (total 4 columns):\n",
      " #   Column        Non-Null Count  Dtype         \n",
      "---  ------        --------------  -----         \n",
      " 0   user_id       134 non-null    object        \n",
      " 1   order_id      134 non-null    object        \n",
      " 2   order_amount  134 non-null    float64       \n",
      " 3   timestamp     134 non-null    datetime64[ns]\n",
      "dtypes: datetime64[ns](1), float64(1), object(2)\n",
      "memory usage: 5.2+ KB\n"
     ]
    }
   ],
   "source": [
    "transactions.info()"
   ]
  },
  {
   "cell_type": "code",
   "execution_count": 320,
   "id": "19bbb536",
   "metadata": {},
   "outputs": [],
   "source": [
    "#Save this cleaned version to your project’s data/ folder\n",
    "transactions.to_csv(\"data/cleaned_transactions.csv\", index=False)"
   ]
  },
  {
   "cell_type": "code",
   "execution_count": 58,
   "id": "79351b08",
   "metadata": {},
   "outputs": [],
   "source": [
    "#Merge the three Datasets i.e users, clickstream and transactions\n",
    "clickstream_merged = clickstream.merge(users, on = \"user_id\", how = \"left\")"
   ]
  },
  {
   "cell_type": "code",
   "execution_count": 60,
   "id": "19490573",
   "metadata": {
    "scrolled": true
   },
   "outputs": [
    {
     "name": "stdout",
     "output_type": "stream",
     "text": [
      "<class 'pandas.core.frame.DataFrame'>\n",
      "RangeIndex: 10434 entries, 0 to 10433\n",
      "Data columns (total 10 columns):\n",
      " #   Column          Non-Null Count  Dtype         \n",
      "---  ------          --------------  -----         \n",
      " 0   user_id         10434 non-null  object        \n",
      " 1   session_id      10434 non-null  object        \n",
      " 2   timestamp       10434 non-null  datetime64[ns]\n",
      " 3   page_name       10434 non-null  object        \n",
      " 4   event_type      10434 non-null  object        \n",
      " 5   product_id      10434 non-null  object        \n",
      " 6   device_type     10434 non-null  object        \n",
      " 7   traffic_source  10434 non-null  object        \n",
      " 8   user_type       10434 non-null  object        \n",
      " 9   location        10434 non-null  object        \n",
      "dtypes: datetime64[ns](1), object(9)\n",
      "memory usage: 815.3+ KB\n"
     ]
    }
   ],
   "source": [
    "clickstream_merged"
   ]
  },
  {
   "cell_type": "code",
   "execution_count": 62,
   "id": "951f4cdf",
   "metadata": {},
   "outputs": [],
   "source": [
    "#Join the clickstream_merged with transactions on user_id and timestamp\n",
    "final_data = clickstream_merged.merge(transactions, on=['user_id', 'timestamp'], how='left')"
   ]
  },
  {
   "cell_type": "code",
   "execution_count": 65,
   "id": "269e91c2",
   "metadata": {
    "scrolled": true
   },
   "outputs": [
    {
     "data": {
      "text/html": [
       "<div>\n",
       "<style scoped>\n",
       "    .dataframe tbody tr th:only-of-type {\n",
       "        vertical-align: middle;\n",
       "    }\n",
       "\n",
       "    .dataframe tbody tr th {\n",
       "        vertical-align: top;\n",
       "    }\n",
       "\n",
       "    .dataframe thead th {\n",
       "        text-align: right;\n",
       "    }\n",
       "</style>\n",
       "<table border=\"1\" class=\"dataframe\">\n",
       "  <thead>\n",
       "    <tr style=\"text-align: right;\">\n",
       "      <th></th>\n",
       "      <th>user_id</th>\n",
       "      <th>session_id</th>\n",
       "      <th>timestamp</th>\n",
       "      <th>page_name</th>\n",
       "      <th>event_type</th>\n",
       "      <th>product_id</th>\n",
       "      <th>device_type</th>\n",
       "      <th>traffic_source</th>\n",
       "      <th>user_type</th>\n",
       "      <th>location</th>\n",
       "      <th>order_id</th>\n",
       "      <th>order_amount</th>\n",
       "    </tr>\n",
       "  </thead>\n",
       "  <tbody>\n",
       "    <tr>\n",
       "      <th>0</th>\n",
       "      <td>U001</td>\n",
       "      <td>9979256b</td>\n",
       "      <td>2024-05-03 11:19:00</td>\n",
       "      <td>homepage</td>\n",
       "      <td>page_view</td>\n",
       "      <td>Unknown</td>\n",
       "      <td>tablet</td>\n",
       "      <td>paid_search</td>\n",
       "      <td>new</td>\n",
       "      <td>Suriname</td>\n",
       "      <td>NaN</td>\n",
       "      <td>NaN</td>\n",
       "    </tr>\n",
       "    <tr>\n",
       "      <th>1</th>\n",
       "      <td>U001</td>\n",
       "      <td>9979256b</td>\n",
       "      <td>2024-05-03 11:21:00</td>\n",
       "      <td>product_page</td>\n",
       "      <td>page_view</td>\n",
       "      <td>P146</td>\n",
       "      <td>tablet</td>\n",
       "      <td>paid_search</td>\n",
       "      <td>new</td>\n",
       "      <td>Suriname</td>\n",
       "      <td>NaN</td>\n",
       "      <td>NaN</td>\n",
       "    </tr>\n",
       "    <tr>\n",
       "      <th>2</th>\n",
       "      <td>U001</td>\n",
       "      <td>9979256b</td>\n",
       "      <td>2024-05-03 11:23:00</td>\n",
       "      <td>cart</td>\n",
       "      <td>scroll</td>\n",
       "      <td>P181</td>\n",
       "      <td>tablet</td>\n",
       "      <td>paid_search</td>\n",
       "      <td>new</td>\n",
       "      <td>Suriname</td>\n",
       "      <td>NaN</td>\n",
       "      <td>NaN</td>\n",
       "    </tr>\n",
       "    <tr>\n",
       "      <th>3</th>\n",
       "      <td>U001</td>\n",
       "      <td>9979256b</td>\n",
       "      <td>2024-05-03 11:34:00</td>\n",
       "      <td>checkout</td>\n",
       "      <td>page_view</td>\n",
       "      <td>Unknown</td>\n",
       "      <td>tablet</td>\n",
       "      <td>paid_search</td>\n",
       "      <td>new</td>\n",
       "      <td>Suriname</td>\n",
       "      <td>NaN</td>\n",
       "      <td>NaN</td>\n",
       "    </tr>\n",
       "    <tr>\n",
       "      <th>4</th>\n",
       "      <td>U001</td>\n",
       "      <td>29b4ac40</td>\n",
       "      <td>2024-05-02 14:48:00</td>\n",
       "      <td>homepage</td>\n",
       "      <td>scroll</td>\n",
       "      <td>Unknown</td>\n",
       "      <td>tablet</td>\n",
       "      <td>paid_search</td>\n",
       "      <td>new</td>\n",
       "      <td>Suriname</td>\n",
       "      <td>NaN</td>\n",
       "      <td>NaN</td>\n",
       "    </tr>\n",
       "  </tbody>\n",
       "</table>\n",
       "</div>"
      ],
      "text/plain": [
       "  user_id session_id           timestamp     page_name event_type product_id  \\\n",
       "0    U001   9979256b 2024-05-03 11:19:00      homepage  page_view    Unknown   \n",
       "1    U001   9979256b 2024-05-03 11:21:00  product_page  page_view       P146   \n",
       "2    U001   9979256b 2024-05-03 11:23:00          cart     scroll       P181   \n",
       "3    U001   9979256b 2024-05-03 11:34:00      checkout  page_view    Unknown   \n",
       "4    U001   29b4ac40 2024-05-02 14:48:00      homepage     scroll    Unknown   \n",
       "\n",
       "  device_type traffic_source user_type  location order_id  order_amount  \n",
       "0      tablet    paid_search       new  Suriname      NaN           NaN  \n",
       "1      tablet    paid_search       new  Suriname      NaN           NaN  \n",
       "2      tablet    paid_search       new  Suriname      NaN           NaN  \n",
       "3      tablet    paid_search       new  Suriname      NaN           NaN  \n",
       "4      tablet    paid_search       new  Suriname      NaN           NaN  "
      ]
     },
     "execution_count": 65,
     "metadata": {},
     "output_type": "execute_result"
    }
   ],
   "source": [
    "final_data.head()"
   ]
  },
  {
   "cell_type": "code",
   "execution_count": 66,
   "id": "5de2f59b",
   "metadata": {},
   "outputs": [],
   "source": [
    "# Save the merged and clean date\n",
    "final_data.to_csv(\"data/final_data.csv\", index=False)"
   ]
  },
  {
   "cell_type": "markdown",
   "id": "a011a9b5",
   "metadata": {},
   "source": [
    "#### 📊 KPI Analysis"
   ]
  },
  {
   "cell_type": "markdown",
   "id": "3a2ecdf0",
   "metadata": {},
   "source": [
    "##### 📈 STEP 3: Measure Conversions  \n",
    "To evaluate funnel performance and business impact, we filtered events where `page_name == 'purchase'` and conducted the following KPI analyses:"
   ]
  },
  {
   "cell_type": "code",
   "execution_count": 74,
   "id": "82e8ad14",
   "metadata": {},
   "outputs": [],
   "source": [
    "#We create a specific dataset for \"purchase\" under column \"page_name\"\n",
    "purchases =final_data[final_data[\"page_name\"] == \"purchase\"]"
   ]
  },
  {
   "cell_type": "code",
   "execution_count": 75,
   "id": "f23f60d8",
   "metadata": {},
   "outputs": [
    {
     "data": {
      "text/html": [
       "<div>\n",
       "<style scoped>\n",
       "    .dataframe tbody tr th:only-of-type {\n",
       "        vertical-align: middle;\n",
       "    }\n",
       "\n",
       "    .dataframe tbody tr th {\n",
       "        vertical-align: top;\n",
       "    }\n",
       "\n",
       "    .dataframe thead th {\n",
       "        text-align: right;\n",
       "    }\n",
       "</style>\n",
       "<table border=\"1\" class=\"dataframe\">\n",
       "  <thead>\n",
       "    <tr style=\"text-align: right;\">\n",
       "      <th></th>\n",
       "      <th>user_id</th>\n",
       "      <th>session_id</th>\n",
       "      <th>timestamp</th>\n",
       "      <th>page_name</th>\n",
       "      <th>event_type</th>\n",
       "      <th>product_id</th>\n",
       "      <th>device_type</th>\n",
       "      <th>traffic_source</th>\n",
       "      <th>user_type</th>\n",
       "      <th>location</th>\n",
       "      <th>order_id</th>\n",
       "      <th>order_amount</th>\n",
       "    </tr>\n",
       "  </thead>\n",
       "  <tbody>\n",
       "    <tr>\n",
       "      <th>8</th>\n",
       "      <td>U001</td>\n",
       "      <td>29b4ac40</td>\n",
       "      <td>2024-05-02 14:52:00</td>\n",
       "      <td>purchase</td>\n",
       "      <td>click</td>\n",
       "      <td>Unknown</td>\n",
       "      <td>tablet</td>\n",
       "      <td>paid_search</td>\n",
       "      <td>new</td>\n",
       "      <td>Suriname</td>\n",
       "      <td>NaN</td>\n",
       "      <td>NaN</td>\n",
       "    </tr>\n",
       "    <tr>\n",
       "      <th>16</th>\n",
       "      <td>U001</td>\n",
       "      <td>a05ad739</td>\n",
       "      <td>2024-05-02 08:26:00</td>\n",
       "      <td>purchase</td>\n",
       "      <td>click</td>\n",
       "      <td>Unknown</td>\n",
       "      <td>tablet</td>\n",
       "      <td>paid_search</td>\n",
       "      <td>new</td>\n",
       "      <td>Suriname</td>\n",
       "      <td>NaN</td>\n",
       "      <td>NaN</td>\n",
       "    </tr>\n",
       "    <tr>\n",
       "      <th>21</th>\n",
       "      <td>U001</td>\n",
       "      <td>3c0d061b</td>\n",
       "      <td>2024-05-01 20:37:00</td>\n",
       "      <td>purchase</td>\n",
       "      <td>click</td>\n",
       "      <td>Unknown</td>\n",
       "      <td>tablet</td>\n",
       "      <td>paid_search</td>\n",
       "      <td>new</td>\n",
       "      <td>Suriname</td>\n",
       "      <td>T0022</td>\n",
       "      <td>241.97</td>\n",
       "    </tr>\n",
       "    <tr>\n",
       "      <th>26</th>\n",
       "      <td>U001</td>\n",
       "      <td>1d87fa9d</td>\n",
       "      <td>2024-05-03 18:41:00</td>\n",
       "      <td>purchase</td>\n",
       "      <td>page_view</td>\n",
       "      <td>Unknown</td>\n",
       "      <td>tablet</td>\n",
       "      <td>paid_search</td>\n",
       "      <td>new</td>\n",
       "      <td>Suriname</td>\n",
       "      <td>NaN</td>\n",
       "      <td>NaN</td>\n",
       "    </tr>\n",
       "    <tr>\n",
       "      <th>48</th>\n",
       "      <td>U001</td>\n",
       "      <td>0ee98fa5</td>\n",
       "      <td>2024-05-01 21:07:00</td>\n",
       "      <td>purchase</td>\n",
       "      <td>page_view</td>\n",
       "      <td>Unknown</td>\n",
       "      <td>tablet</td>\n",
       "      <td>paid_search</td>\n",
       "      <td>new</td>\n",
       "      <td>Suriname</td>\n",
       "      <td>NaN</td>\n",
       "      <td>NaN</td>\n",
       "    </tr>\n",
       "  </tbody>\n",
       "</table>\n",
       "</div>"
      ],
      "text/plain": [
       "   user_id session_id           timestamp page_name event_type product_id  \\\n",
       "8     U001   29b4ac40 2024-05-02 14:52:00  purchase      click    Unknown   \n",
       "16    U001   a05ad739 2024-05-02 08:26:00  purchase      click    Unknown   \n",
       "21    U001   3c0d061b 2024-05-01 20:37:00  purchase      click    Unknown   \n",
       "26    U001   1d87fa9d 2024-05-03 18:41:00  purchase  page_view    Unknown   \n",
       "48    U001   0ee98fa5 2024-05-01 21:07:00  purchase  page_view    Unknown   \n",
       "\n",
       "   device_type traffic_source user_type  location order_id  order_amount  \n",
       "8       tablet    paid_search       new  Suriname      NaN           NaN  \n",
       "16      tablet    paid_search       new  Suriname      NaN           NaN  \n",
       "21      tablet    paid_search       new  Suriname    T0022        241.97  \n",
       "26      tablet    paid_search       new  Suriname      NaN           NaN  \n",
       "48      tablet    paid_search       new  Suriname      NaN           NaN  "
      ]
     },
     "execution_count": 75,
     "metadata": {},
     "output_type": "execute_result"
    }
   ],
   "source": [
    "purchases.head() # These are the close to sucessful conversions"
   ]
  },
  {
   "cell_type": "code",
   "execution_count": 135,
   "id": "90eed78a",
   "metadata": {},
   "outputs": [
    {
     "data": {
      "text/plain": [
       "device_type\n",
       "mobile     263\n",
       "tablet     257\n",
       "desktop    224\n",
       "Name: count, dtype: int64"
      ]
     },
     "execution_count": 135,
     "metadata": {},
     "output_type": "execute_result"
    }
   ],
   "source": [
    "purchases[\"device_type\"].value_counts() #Users reached the \"purchase\" not necessarily that they purchased"
   ]
  },
  {
   "cell_type": "code",
   "execution_count": 136,
   "id": "79295744",
   "metadata": {},
   "outputs": [
    {
     "data": {
      "text/plain": [
       "744"
      ]
     },
     "execution_count": 136,
     "metadata": {},
     "output_type": "execute_result"
    }
   ],
   "source": [
    "# Total number of that got to the purchase page i.e 744 purchases\n",
    "purchases.shape[0]"
   ]
  },
  {
   "cell_type": "code",
   "execution_count": 137,
   "id": "7c199b6c",
   "metadata": {},
   "outputs": [],
   "source": [
    "# To clean the purchase data with Null data.i.e Users that actually purchased\n",
    "clean_purchases = purchases[purchases[\"order_amount\"].notnull()]"
   ]
  },
  {
   "cell_type": "code",
   "execution_count": 138,
   "id": "364faf13",
   "metadata": {},
   "outputs": [
    {
     "data": {
      "text/plain": [
       "134"
      ]
     },
     "execution_count": 138,
     "metadata": {},
     "output_type": "execute_result"
    }
   ],
   "source": [
    "# Total number of that got to the purchase page i.e 744 purchases\n",
    "clean_purchases.shape[0]"
   ]
  },
  {
   "cell_type": "code",
   "execution_count": 139,
   "id": "815988d5",
   "metadata": {},
   "outputs": [
    {
     "data": {
      "text/plain": [
       "array(['U001', 'U003', 'U007', 'U009', 'U010', 'U012', 'U013', 'U015',\n",
       "       'U017', 'U018', 'U019', 'U020', 'U022', 'U024', 'U025', 'U026',\n",
       "       'U029', 'U033', 'U037', 'U039', 'U040', 'U041', 'U044', 'U046',\n",
       "       'U048', 'U052', 'U053', 'U054', 'U055', 'U056', 'U057', 'U058',\n",
       "       'U059', 'U061', 'U062', 'U063', 'U064', 'U067', 'U069', 'U074',\n",
       "       'U075', 'U076', 'U077', 'U081', 'U082', 'U085', 'U086', 'U089',\n",
       "       'U090', 'U091', 'U094', 'U095', 'U099', 'U101', 'U102', 'U105',\n",
       "       'U106', 'U107', 'U109', 'U110', 'U112', 'U113', 'U114', 'U115',\n",
       "       'U116', 'U117', 'U119', 'U122', 'U123', 'U130', 'U131', 'U134',\n",
       "       'U136', 'U141', 'U142', 'U144', 'U147', 'U150', 'U151', 'U152',\n",
       "       'U157', 'U160', 'U161', 'U162', 'U163', 'U164', 'U166', 'U168',\n",
       "       'U175', 'U176', 'U177', 'U179', 'U180', 'U183', 'U185', 'U188',\n",
       "       'U193', 'U196', 'U197', 'U198', 'U200'], dtype=object)"
      ]
     },
     "execution_count": 139,
     "metadata": {},
     "output_type": "execute_result"
    }
   ],
   "source": [
    "#To get and count the number of unique users (user_id) who made a purchase.\n",
    "clean_purchases[# To clean the purchase data with Null data.i.e Users that actually purchased\n",
    "clean_purchases = purchases[purchases[\"order_amount\"].notnull()]\n",
    "# Total number of that got to the purchase page i.e 744 purchases\n",
    "clean_purchases.shape[0]\n",
    "134\"user_id\"].unique()"
   ]
  },
  {
   "cell_type": "code",
   "execution_count": 147,
   "id": "7b5125d4",
   "metadata": {},
   "outputs": [
    {
     "data": {
      "text/plain": [
       "200"
      ]
     },
     "execution_count": 147,
     "metadata": {},
     "output_type": "execute_result"
    }
   ],
   "source": [
    "Total_number_users = users.shape[0]\n",
    "Total_number_users"
   ]
  },
  {
   "cell_type": "code",
   "execution_count": 157,
   "id": "1b7ad748",
   "metadata": {},
   "outputs": [
    {
     "data": {
      "text/plain": [
       "134"
      ]
     },
     "execution_count": 157,
     "metadata": {},
     "output_type": "execute_result"
    }
   ],
   "source": [
    "# Total real purchases\n",
    "total_purchases = clean_purchases.shape[0]\n",
    "total_purchases"
   ]
  },
  {
   "cell_type": "code",
   "execution_count": 159,
   "id": "f7ee10e0",
   "metadata": {},
   "outputs": [
    {
     "data": {
      "text/plain": [
       "101"
      ]
     },
     "execution_count": 159,
     "metadata": {},
     "output_type": "execute_result"
    }
   ],
   "source": [
    "#Unique users who made a purchase\n",
    "unique_buyers =clean_purchases[\"user_id\"].nunique()\n",
    "unique_buyers"
   ]
  },
  {
   "cell_type": "code",
   "execution_count": 160,
   "id": "c4fff7ea",
   "metadata": {},
   "outputs": [
    {
     "data": {
      "text/plain": [
       "200"
      ]
     },
     "execution_count": 160,
     "metadata": {},
     "output_type": "execute_result"
    }
   ],
   "source": [
    "#Total users\n",
    "total_users = users.shape[0]\n",
    "total_users"
   ]
  },
  {
   "cell_type": "code",
   "execution_count": 162,
   "id": "527c2253",
   "metadata": {},
   "outputs": [],
   "source": [
    "#Conversion rate (% of all users who converted)\n",
    "conversion_rate = round((unique_buyers / total_users) * 100, 2)"
   ]
  },
  {
   "cell_type": "code",
   "execution_count": 163,
   "id": "f4e1a653",
   "metadata": {},
   "outputs": [
    {
     "name": "stdout",
     "output_type": "stream",
     "text": [
      "The conversion rate is equals 50.5%\n"
     ]
    }
   ],
   "source": [
    "print(f\"The conversion rate is equals {conversion_rate}%\")"
   ]
  },
  {
   "cell_type": "code",
   "execution_count": 164,
   "id": "6786df49",
   "metadata": {},
   "outputs": [
    {
     "data": {
      "text/plain": [
       "1.33"
      ]
     },
     "execution_count": 164,
     "metadata": {},
     "output_type": "execute_result"
    }
   ],
   "source": [
    "# Repeat purchase rate (avg. purchases per buyer)\n",
    "avg_purchases_per_user = round(total_purchases / unique_buyers, 2)\n",
    "avg_purchases_per_user"
   ]
  },
  {
   "cell_type": "markdown",
   "id": "21e251bf",
   "metadata": {},
   "source": [
    "###### Business Insight:\n",
    "Metric\tMeaning\tWhy It’s Valuable\n",
    "###### 1.0\tOne-time purchase only\tNo repeat buyers\n",
    "###### >1.0\tRepeat buyers exist\tSignals customer satisfaction, loyalty, or upsell potential\n",
    "###### 1.33\tSome users are buying more than once\tOpportunity to build a loyalty program or recommend bundles"
   ]
  },
  {
   "cell_type": "markdown",
   "id": "800509df",
   "metadata": {},
   "source": [
    "##### 💰 STEP 4: Revenue Analysis  \n",
    "A. Total Revenue: The sum of all order amounts — how much money was generated from all purchases.\n",
    "B. Average Order Value (AOV): How much users spend on average per purchase.\n",
    "C. Max & Min Order Value (Range Insight)"
   ]
  },
  {
   "cell_type": "code",
   "execution_count": 166,
   "id": "a77c8ddb",
   "metadata": {},
   "outputs": [],
   "source": [
    "# Calculate the Total Revenue\n",
    "total_revenue = clean_purchases[\"order_amount\"].sum()"
   ]
  },
  {
   "cell_type": "code",
   "execution_count": 167,
   "id": "e99dc712",
   "metadata": {},
   "outputs": [
    {
     "name": "stdout",
     "output_type": "stream",
     "text": [
      "Total revenue is $20078.97\n"
     ]
    }
   ],
   "source": [
    "print(f\"Total revenue is ${total_revenue}\")"
   ]
  },
  {
   "cell_type": "code",
   "execution_count": 168,
   "id": "ae8d80e3",
   "metadata": {},
   "outputs": [],
   "source": [
    "# Average Order Value (AOV): i.e Total Revenue / Total Number of Purchases or mean of purchases\n",
    "Average_order_value = round(clean_purchases[\"order_amount\"].mean(),2)"
   ]
  },
  {
   "cell_type": "code",
   "execution_count": 169,
   "id": "0bf9a65a",
   "metadata": {},
   "outputs": [
    {
     "name": "stdout",
     "output_type": "stream",
     "text": [
      "Average Order Value amount is $149.84\n"
     ]
    }
   ],
   "source": [
    "print(f\"Average Order Value amount is ${Average_order_value}\")"
   ]
  },
  {
   "cell_type": "code",
   "execution_count": 170,
   "id": "468d7f56",
   "metadata": {},
   "outputs": [],
   "source": [
    "#  Max/min order values\n",
    "Max_order =  clean_purchases[\"order_amount\"].max()\n",
    "Min_order =  clean_purchases[\"order_amount\"].min()"
   ]
  },
  {
   "cell_type": "code",
   "execution_count": 171,
   "id": "842d8161",
   "metadata": {},
   "outputs": [
    {
     "name": "stdout",
     "output_type": "stream",
     "text": [
      "Max Order Value: $299.61\n",
      "Min Order Value: $24.49\n"
     ]
    }
   ],
   "source": [
    "print(f\"Max Order Value: ${round(Max_order, 2)}\")\n",
    "print(f\"Min Order Value: ${round(Min_order, 2)}\")"
   ]
  },
  {
   "cell_type": "markdown",
   "id": "4db5b14e",
   "metadata": {},
   "source": [
    "##### 🧍 STEP 5: Segment Buyer Behavior \n",
    "We’ll answer questions like:\n",
    "\n",
    "Do desktop users spend more than mobile (\"device_type\")?\n",
    "\n",
    "Which traffic sources convert best (\"traffic_source\") ?\n",
    "\n",
    "Are users from certain countries more valuable (\"location\")?"
   ]
  },
  {
   "cell_type": "code",
   "execution_count": 111,
   "id": "602bc1bb",
   "metadata": {},
   "outputs": [
    {
     "data": {
      "text/plain": [
       "3"
      ]
     },
     "execution_count": 111,
     "metadata": {},
     "output_type": "execute_result"
    }
   ],
   "source": [
    "#Check the unique devices used\n",
    "purchases[\"device_type\"].nunique()"
   ]
  },
  {
   "cell_type": "code",
   "execution_count": 172,
   "id": "082dd284",
   "metadata": {},
   "outputs": [
    {
     "data": {
      "text/html": [
       "<div>\n",
       "<style scoped>\n",
       "    .dataframe tbody tr th:only-of-type {\n",
       "        vertical-align: middle;\n",
       "    }\n",
       "\n",
       "    .dataframe tbody tr th {\n",
       "        vertical-align: top;\n",
       "    }\n",
       "\n",
       "    .dataframe thead th {\n",
       "        text-align: right;\n",
       "    }\n",
       "</style>\n",
       "<table border=\"1\" class=\"dataframe\">\n",
       "  <thead>\n",
       "    <tr style=\"text-align: right;\">\n",
       "      <th></th>\n",
       "      <th>user_id</th>\n",
       "      <th>session_id</th>\n",
       "      <th>timestamp</th>\n",
       "      <th>page_name</th>\n",
       "      <th>event_type</th>\n",
       "      <th>product_id</th>\n",
       "      <th>device_type</th>\n",
       "      <th>traffic_source</th>\n",
       "      <th>user_type</th>\n",
       "      <th>location</th>\n",
       "      <th>order_id</th>\n",
       "      <th>order_amount</th>\n",
       "    </tr>\n",
       "  </thead>\n",
       "  <tbody>\n",
       "    <tr>\n",
       "      <th>21</th>\n",
       "      <td>U001</td>\n",
       "      <td>3c0d061b</td>\n",
       "      <td>2024-05-01 20:37:00</td>\n",
       "      <td>purchase</td>\n",
       "      <td>click</td>\n",
       "      <td>Unknown</td>\n",
       "      <td>tablet</td>\n",
       "      <td>paid_search</td>\n",
       "      <td>new</td>\n",
       "      <td>Suriname</td>\n",
       "      <td>T0022</td>\n",
       "      <td>241.97</td>\n",
       "    </tr>\n",
       "    <tr>\n",
       "      <th>110</th>\n",
       "      <td>U003</td>\n",
       "      <td>ededd1f5</td>\n",
       "      <td>2024-05-03 08:49:00</td>\n",
       "      <td>purchase</td>\n",
       "      <td>page_view</td>\n",
       "      <td>Unknown</td>\n",
       "      <td>desktop</td>\n",
       "      <td>organic</td>\n",
       "      <td>returning</td>\n",
       "      <td>Egypt</td>\n",
       "      <td>T0111</td>\n",
       "      <td>24.49</td>\n",
       "    </tr>\n",
       "    <tr>\n",
       "      <th>314</th>\n",
       "      <td>U007</td>\n",
       "      <td>ff4ed4ad</td>\n",
       "      <td>2024-05-02 22:21:00</td>\n",
       "      <td>purchase</td>\n",
       "      <td>page_view</td>\n",
       "      <td>Unknown</td>\n",
       "      <td>desktop</td>\n",
       "      <td>paid_search</td>\n",
       "      <td>returning</td>\n",
       "      <td>Djibouti</td>\n",
       "      <td>T0315</td>\n",
       "      <td>200.74</td>\n",
       "    </tr>\n",
       "    <tr>\n",
       "      <th>444</th>\n",
       "      <td>U009</td>\n",
       "      <td>af941553</td>\n",
       "      <td>2024-05-03 22:07:00</td>\n",
       "      <td>purchase</td>\n",
       "      <td>page_view</td>\n",
       "      <td>Unknown</td>\n",
       "      <td>tablet</td>\n",
       "      <td>email</td>\n",
       "      <td>new</td>\n",
       "      <td>Wallis and Futuna</td>\n",
       "      <td>T0445</td>\n",
       "      <td>86.88</td>\n",
       "    </tr>\n",
       "    <tr>\n",
       "      <th>449</th>\n",
       "      <td>U009</td>\n",
       "      <td>d518169f</td>\n",
       "      <td>2024-05-02 12:06:00</td>\n",
       "      <td>purchase</td>\n",
       "      <td>scroll</td>\n",
       "      <td>Unknown</td>\n",
       "      <td>tablet</td>\n",
       "      <td>email</td>\n",
       "      <td>new</td>\n",
       "      <td>Wallis and Futuna</td>\n",
       "      <td>T0450</td>\n",
       "      <td>68.48</td>\n",
       "    </tr>\n",
       "  </tbody>\n",
       "</table>\n",
       "</div>"
      ],
      "text/plain": [
       "    user_id session_id           timestamp page_name event_type product_id  \\\n",
       "21     U001   3c0d061b 2024-05-01 20:37:00  purchase      click    Unknown   \n",
       "110    U003   ededd1f5 2024-05-03 08:49:00  purchase  page_view    Unknown   \n",
       "314    U007   ff4ed4ad 2024-05-02 22:21:00  purchase  page_view    Unknown   \n",
       "444    U009   af941553 2024-05-03 22:07:00  purchase  page_view    Unknown   \n",
       "449    U009   d518169f 2024-05-02 12:06:00  purchase     scroll    Unknown   \n",
       "\n",
       "    device_type traffic_source  user_type           location order_id  \\\n",
       "21       tablet    paid_search        new           Suriname    T0022   \n",
       "110     desktop        organic  returning              Egypt    T0111   \n",
       "314     desktop    paid_search  returning           Djibouti    T0315   \n",
       "444      tablet          email        new  Wallis and Futuna    T0445   \n",
       "449      tablet          email        new  Wallis and Futuna    T0450   \n",
       "\n",
       "     order_amount  \n",
       "21         241.97  \n",
       "110         24.49  \n",
       "314        200.74  \n",
       "444         86.88  \n",
       "449         68.48  "
      ]
     },
     "execution_count": 172,
     "metadata": {},
     "output_type": "execute_result"
    }
   ],
   "source": [
    "clean_purchases.head()"
   ]
  },
  {
   "cell_type": "code",
   "execution_count": 173,
   "id": "289967b8",
   "metadata": {},
   "outputs": [
    {
     "data": {
      "text/plain": [
       "device_type\n",
       "mobile     48\n",
       "tablet     46\n",
       "desktop    40\n",
       "Name: count, dtype: int64"
      ]
     },
     "execution_count": 173,
     "metadata": {},
     "output_type": "execute_result"
    }
   ],
   "source": [
    "clean_purchases[\"device_type\"].value_counts() #Users actually purchased"
   ]
  },
  {
   "cell_type": "code",
   "execution_count": 182,
   "id": "6f063f32",
   "metadata": {},
   "outputs": [
    {
     "data": {
      "text/plain": [
       "device_type\n",
       "mobile     7399.85\n",
       "desktop    6498.26\n",
       "tablet     6180.86\n",
       "Name: order_amount, dtype: float64"
      ]
     },
     "execution_count": 182,
     "metadata": {},
     "output_type": "execute_result"
    }
   ],
   "source": [
    "# Revenue by Device i.e sum of the order amount\n",
    "revenue_by_device = clean_purchases.groupby(\"device_type\")[\"order_amount\"].sum().sort_values(ascending=False)\n",
    "revenue_by_device"
   ]
  },
  {
   "cell_type": "code",
   "execution_count": 187,
   "id": "8f0ba71c",
   "metadata": {},
   "outputs": [
    {
     "data": {
      "text/plain": [
       "traffic_source\n",
       "direct         5601.65\n",
       "social         4183.03\n",
       "paid_search    3516.18\n",
       "organic        3452.40\n",
       "email          3325.71\n",
       "Name: order_amount, dtype: float64"
      ]
     },
     "execution_count": 187,
     "metadata": {},
     "output_type": "execute_result"
    }
   ],
   "source": [
    "#Revenue_by_source\n",
    "revenue_by_source = clean_purchases.groupby(\"traffic_source\")[\"order_amount\"].sum().sort_values(ascending=False)\n",
    "revenue_by_source"
   ]
  },
  {
   "cell_type": "code",
   "execution_count": 191,
   "id": "d6d75482",
   "metadata": {},
   "outputs": [
    {
     "data": {
      "text/plain": [
       "location\n",
       "Kuwait                                  1010.31\n",
       "Tanzania                                 875.41\n",
       "Rwanda                                   844.62\n",
       "United States Minor Outlying Islands     645.17\n",
       "Montserrat                               482.06\n",
       "Zimbabwe                                 425.90\n",
       "Swaziland                                378.42\n",
       "Reunion                                  373.05\n",
       "Saint Lucia                              355.69\n",
       "Monaco                                   336.52\n",
       "Name: order_amount, dtype: float64"
      ]
     },
     "execution_count": 191,
     "metadata": {},
     "output_type": "execute_result"
    }
   ],
   "source": [
    "#Revenue by Location (Top 10)\n",
    "revenue_by_location = clean_purchases.groupby(\"location\")[\"order_amount\"].sum().sort_values(ascending=False).head(10)\n",
    "revenue_by_location "
   ]
  },
  {
   "cell_type": "code",
   "execution_count": 331,
   "id": "c098bdcd",
   "metadata": {},
   "outputs": [],
   "source": [
    "#Save revenue by location\n",
    "revenue_by_location.to_csv(\"data/revenue_by_location.csv\")"
   ]
  },
  {
   "cell_type": "code",
   "execution_count": 194,
   "id": "2f078257",
   "metadata": {},
   "outputs": [
    {
     "data": {
      "text/plain": [
       "device_type\n",
       "desktop    162.46\n",
       "mobile     154.16\n",
       "tablet     134.37\n",
       "Name: order_amount, dtype: float64"
      ]
     },
     "execution_count": 194,
     "metadata": {},
     "output_type": "execute_result"
    }
   ],
   "source": [
    "#Calculates the average order value (AOV) per device group: mobile, desktop, tablet.\n",
    "aov_by_device =round(clean_purchases.groupby(\"device_type\")[\"order_amount\"].mean().sort_values(ascending=False),2)\n",
    "aov_by_device"
   ]
  },
  {
   "cell_type": "code",
   "execution_count": 196,
   "id": "dde422c7",
   "metadata": {},
   "outputs": [
    {
     "data": {
      "text/plain": [
       "traffic_source\n",
       "paid_search    167.44\n",
       "direct         155.60\n",
       "social         149.39\n",
       "organic        143.85\n",
       "email          133.03\n",
       "Name: order_amount, dtype: float64"
      ]
     },
     "execution_count": 196,
     "metadata": {},
     "output_type": "execute_result"
    }
   ],
   "source": [
    "#Calculates the AOV by Traffic Source\n",
    "aov_by_source =round(clean_purchases.groupby(\"traffic_source\")[\"order_amount\"].mean().sort_values(ascending=False),2)\n",
    "aov_by_source"
   ]
  },
  {
   "cell_type": "code",
   "execution_count": 197,
   "id": "35dc92e1",
   "metadata": {},
   "outputs": [],
   "source": [
    "#Conversion Rate by Device Type\n",
    "# Total who reached the purchase page (behavioral)\n",
    "device_attempts = purchases[\"device_type\"].value_counts()\n",
    "\n",
    "# Total who actually completed purchase\n",
    "device_successes = clean_purchases[\"device_type\"].value_counts()"
   ]
  },
  {
   "cell_type": "code",
   "execution_count": 202,
   "id": "47171cd9",
   "metadata": {},
   "outputs": [
    {
     "name": "stdout",
     "output_type": "stream",
     "text": [
      " The percentage conversion by device is device_type\n",
      "mobile     18.25\n",
      "tablet     17.90\n",
      "desktop    17.86\n",
      "Name: count, dtype: float64\n"
     ]
    }
   ],
   "source": [
    "# Conversion efficiency by device\n",
    "conversion_by_device = (device_successes / device_attempts * 100).round(2)\n",
    "print(f\" The percentage conversion by device is {conversion_by_device}\")"
   ]
  },
  {
   "cell_type": "markdown",
   "id": "982d0186",
   "metadata": {},
   "source": [
    "##### ⏱️ STEP 6: Conversion Timing "
   ]
  },
  {
   "cell_type": "markdown",
   "id": "d70ea36d",
   "metadata": {},
   "source": [
    "###### Extract Hour and Day of Week from Timestamps"
   ]
  },
  {
   "cell_type": "code",
   "execution_count": 203,
   "id": "9da9483a",
   "metadata": {},
   "outputs": [
    {
     "name": "stderr",
     "output_type": "stream",
     "text": [
      "C:\\Users\\oluwa\\AppData\\Local\\Temp\\ipykernel_22764\\4015292724.py:2: SettingWithCopyWarning: \n",
      "A value is trying to be set on a copy of a slice from a DataFrame.\n",
      "Try using .loc[row_indexer,col_indexer] = value instead\n",
      "\n",
      "See the caveats in the documentation: https://pandas.pydata.org/pandas-docs/stable/user_guide/indexing.html#returning-a-view-versus-a-copy\n",
      "  clean_purchases['timestamp'] = pd.to_datetime(clean_purchases['timestamp'])\n"
     ]
    }
   ],
   "source": [
    "# Make sure the timestamp column is in datetime format\n",
    "clean_purchases['timestamp'] = pd.to_datetime(clean_purchases['timestamp'])"
   ]
  },
  {
   "cell_type": "code",
   "execution_count": 204,
   "id": "8e55ab55",
   "metadata": {},
   "outputs": [
    {
     "name": "stderr",
     "output_type": "stream",
     "text": [
      "C:\\Users\\oluwa\\AppData\\Local\\Temp\\ipykernel_22764\\1518571680.py:2: SettingWithCopyWarning: \n",
      "A value is trying to be set on a copy of a slice from a DataFrame.\n",
      "Try using .loc[row_indexer,col_indexer] = value instead\n",
      "\n",
      "See the caveats in the documentation: https://pandas.pydata.org/pandas-docs/stable/user_guide/indexing.html#returning-a-view-versus-a-copy\n",
      "  clean_purchases['purchase_hour'] = clean_purchases['timestamp'].dt.hour\n"
     ]
    }
   ],
   "source": [
    "# Extract hour of purchase to a new column (0–23)\n",
    "clean_purchases['purchase_hour'] = clean_purchases['timestamp'].dt.hour"
   ]
  },
  {
   "cell_type": "code",
   "execution_count": 205,
   "id": "ca38bf20",
   "metadata": {},
   "outputs": [
    {
     "name": "stderr",
     "output_type": "stream",
     "text": [
      "C:\\Users\\oluwa\\AppData\\Local\\Temp\\ipykernel_22764\\3672276490.py:2: SettingWithCopyWarning: \n",
      "A value is trying to be set on a copy of a slice from a DataFrame.\n",
      "Try using .loc[row_indexer,col_indexer] = value instead\n",
      "\n",
      "See the caveats in the documentation: https://pandas.pydata.org/pandas-docs/stable/user_guide/indexing.html#returning-a-view-versus-a-copy\n",
      "  clean_purchases['purchase_day'] = clean_purchases['timestamp'].dt.day_name()\n"
     ]
    }
   ],
   "source": [
    "# Extract day of the week to a new column (Monday, Tuesday, etc.)\n",
    "clean_purchases['purchase_day'] = clean_purchases['timestamp'].dt.day_name()"
   ]
  },
  {
   "cell_type": "code",
   "execution_count": 207,
   "id": "12a1dec4",
   "metadata": {
    "scrolled": true
   },
   "outputs": [
    {
     "data": {
      "text/html": [
       "<div>\n",
       "<style scoped>\n",
       "    .dataframe tbody tr th:only-of-type {\n",
       "        vertical-align: middle;\n",
       "    }\n",
       "\n",
       "    .dataframe tbody tr th {\n",
       "        vertical-align: top;\n",
       "    }\n",
       "\n",
       "    .dataframe thead th {\n",
       "        text-align: right;\n",
       "    }\n",
       "</style>\n",
       "<table border=\"1\" class=\"dataframe\">\n",
       "  <thead>\n",
       "    <tr style=\"text-align: right;\">\n",
       "      <th></th>\n",
       "      <th>user_id</th>\n",
       "      <th>session_id</th>\n",
       "      <th>timestamp</th>\n",
       "      <th>page_name</th>\n",
       "      <th>event_type</th>\n",
       "      <th>product_id</th>\n",
       "      <th>device_type</th>\n",
       "      <th>traffic_source</th>\n",
       "      <th>user_type</th>\n",
       "      <th>location</th>\n",
       "      <th>order_id</th>\n",
       "      <th>order_amount</th>\n",
       "      <th>purchase_hour</th>\n",
       "      <th>purchase_day</th>\n",
       "    </tr>\n",
       "  </thead>\n",
       "  <tbody>\n",
       "    <tr>\n",
       "      <th>21</th>\n",
       "      <td>U001</td>\n",
       "      <td>3c0d061b</td>\n",
       "      <td>2024-05-01 20:37:00</td>\n",
       "      <td>purchase</td>\n",
       "      <td>click</td>\n",
       "      <td>Unknown</td>\n",
       "      <td>tablet</td>\n",
       "      <td>paid_search</td>\n",
       "      <td>new</td>\n",
       "      <td>Suriname</td>\n",
       "      <td>T0022</td>\n",
       "      <td>241.97</td>\n",
       "      <td>20</td>\n",
       "      <td>Wednesday</td>\n",
       "    </tr>\n",
       "    <tr>\n",
       "      <th>110</th>\n",
       "      <td>U003</td>\n",
       "      <td>ededd1f5</td>\n",
       "      <td>2024-05-03 08:49:00</td>\n",
       "      <td>purchase</td>\n",
       "      <td>page_view</td>\n",
       "      <td>Unknown</td>\n",
       "      <td>desktop</td>\n",
       "      <td>organic</td>\n",
       "      <td>returning</td>\n",
       "      <td>Egypt</td>\n",
       "      <td>T0111</td>\n",
       "      <td>24.49</td>\n",
       "      <td>8</td>\n",
       "      <td>Friday</td>\n",
       "    </tr>\n",
       "    <tr>\n",
       "      <th>314</th>\n",
       "      <td>U007</td>\n",
       "      <td>ff4ed4ad</td>\n",
       "      <td>2024-05-02 22:21:00</td>\n",
       "      <td>purchase</td>\n",
       "      <td>page_view</td>\n",
       "      <td>Unknown</td>\n",
       "      <td>desktop</td>\n",
       "      <td>paid_search</td>\n",
       "      <td>returning</td>\n",
       "      <td>Djibouti</td>\n",
       "      <td>T0315</td>\n",
       "      <td>200.74</td>\n",
       "      <td>22</td>\n",
       "      <td>Thursday</td>\n",
       "    </tr>\n",
       "    <tr>\n",
       "      <th>444</th>\n",
       "      <td>U009</td>\n",
       "      <td>af941553</td>\n",
       "      <td>2024-05-03 22:07:00</td>\n",
       "      <td>purchase</td>\n",
       "      <td>page_view</td>\n",
       "      <td>Unknown</td>\n",
       "      <td>tablet</td>\n",
       "      <td>email</td>\n",
       "      <td>new</td>\n",
       "      <td>Wallis and Futuna</td>\n",
       "      <td>T0445</td>\n",
       "      <td>86.88</td>\n",
       "      <td>22</td>\n",
       "      <td>Friday</td>\n",
       "    </tr>\n",
       "    <tr>\n",
       "      <th>449</th>\n",
       "      <td>U009</td>\n",
       "      <td>d518169f</td>\n",
       "      <td>2024-05-02 12:06:00</td>\n",
       "      <td>purchase</td>\n",
       "      <td>scroll</td>\n",
       "      <td>Unknown</td>\n",
       "      <td>tablet</td>\n",
       "      <td>email</td>\n",
       "      <td>new</td>\n",
       "      <td>Wallis and Futuna</td>\n",
       "      <td>T0450</td>\n",
       "      <td>68.48</td>\n",
       "      <td>12</td>\n",
       "      <td>Thursday</td>\n",
       "    </tr>\n",
       "  </tbody>\n",
       "</table>\n",
       "</div>"
      ],
      "text/plain": [
       "    user_id session_id           timestamp page_name event_type product_id  \\\n",
       "21     U001   3c0d061b 2024-05-01 20:37:00  purchase      click    Unknown   \n",
       "110    U003   ededd1f5 2024-05-03 08:49:00  purchase  page_view    Unknown   \n",
       "314    U007   ff4ed4ad 2024-05-02 22:21:00  purchase  page_view    Unknown   \n",
       "444    U009   af941553 2024-05-03 22:07:00  purchase  page_view    Unknown   \n",
       "449    U009   d518169f 2024-05-02 12:06:00  purchase     scroll    Unknown   \n",
       "\n",
       "    device_type traffic_source  user_type           location order_id  \\\n",
       "21       tablet    paid_search        new           Suriname    T0022   \n",
       "110     desktop        organic  returning              Egypt    T0111   \n",
       "314     desktop    paid_search  returning           Djibouti    T0315   \n",
       "444      tablet          email        new  Wallis and Futuna    T0445   \n",
       "449      tablet          email        new  Wallis and Futuna    T0450   \n",
       "\n",
       "     order_amount  purchase_hour purchase_day  \n",
       "21         241.97             20    Wednesday  \n",
       "110         24.49              8       Friday  \n",
       "314        200.74             22     Thursday  \n",
       "444         86.88             22       Friday  \n",
       "449         68.48             12     Thursday  "
      ]
     },
     "execution_count": 207,
     "metadata": {},
     "output_type": "execute_result"
    }
   ],
   "source": [
    "clean_purchases.head()"
   ]
  },
  {
   "cell_type": "code",
   "execution_count": 209,
   "id": "e51b000e",
   "metadata": {},
   "outputs": [
    {
     "data": {
      "text/plain": [
       "21       20\n",
       "110       8\n",
       "314      22\n",
       "444      22\n",
       "449      12\n",
       "         ..\n",
       "10188    16\n",
       "10269    11\n",
       "10321    18\n",
       "10404    12\n",
       "10409     9\n",
       "Name: purchase_hour, Length: 134, dtype: int32"
      ]
     },
     "execution_count": 209,
     "metadata": {},
     "output_type": "execute_result"
    }
   ],
   "source": [
    "# Hourly purchase trend\n",
    "purchase_hour"
   ]
  },
  {
   "cell_type": "code",
   "execution_count": 215,
   "id": "2a8857c4",
   "metadata": {},
   "outputs": [
    {
     "data": {
      "text/plain": [
       "purchase_hour\n",
       "8      6\n",
       "9      9\n",
       "10    10\n",
       "11     5\n",
       "12    12\n",
       "13     6\n",
       "14     6\n",
       "15    10\n",
       "16    11\n",
       "17    10\n",
       "18     7\n",
       "19    11\n",
       "20    16\n",
       "21     9\n",
       "22     5\n",
       "23     1\n",
       "Name: count, dtype: int64"
      ]
     },
     "execution_count": 215,
     "metadata": {},
     "output_type": "execute_result"
    }
   ],
   "source": [
    "# Count purchases by hour of the day\n",
    "purchases_by_hour = clean_purchases[\"purchase_hour\"].value_counts().sort_index()\n",
    "purchases_by_hour"
   ]
  },
  {
   "cell_type": "code",
   "execution_count": 219,
   "id": "9bee94ca",
   "metadata": {},
   "outputs": [
    {
     "data": {
      "text/plain": [
       "purchase_day\n",
       "Monday        NaN\n",
       "Tuesday       NaN\n",
       "Wednesday    44.0\n",
       "Thursday     43.0\n",
       "Friday       47.0\n",
       "Saturday      NaN\n",
       "Sunday        NaN\n",
       "Name: count, dtype: float64"
      ]
     },
     "execution_count": 219,
     "metadata": {},
     "output_type": "execute_result"
    }
   ],
   "source": [
    "#Count Purchases by Day of the Week\n",
    "day_order = ['Monday', 'Tuesday', 'Wednesday', 'Thursday', 'Friday', 'Saturday', 'Sunday']\n",
    "clean_purchases[\"purchase_day\"].value_counts().reindex(day_order)"
   ]
  },
  {
   "cell_type": "code",
   "execution_count": 220,
   "id": "497b749e",
   "metadata": {},
   "outputs": [
    {
     "data": {
      "text/plain": [
       "purchase_day\n",
       "Monday        0.0\n",
       "Tuesday       0.0\n",
       "Wednesday    44.0\n",
       "Thursday     43.0\n",
       "Friday       47.0\n",
       "Saturday      0.0\n",
       "Sunday        0.0\n",
       "Name: count, dtype: float64"
      ]
     },
     "execution_count": 220,
     "metadata": {},
     "output_type": "execute_result"
    }
   ],
   "source": [
    "#Replace NaN with 0 \n",
    "purchases_by_day = clean_purchases[\"purchase_day\"].value_counts().reindex(day_order).fillna(0)\n",
    "purchases_by_day"
   ]
  },
  {
   "cell_type": "code",
   "execution_count": 328,
   "id": "99ea77fd",
   "metadata": {},
   "outputs": [
    {
     "data": {
      "image/png": "[encoded data removed]",
      "text/plain": [
       "<Figure size 1000x400 with 1 Axes>"
      ]
     },
     "metadata": {},
     "output_type": "display_data"
    }
   ],
   "source": [
    "# Plot hourly purchase trend\n",
    "purchases_by_hour.plot(kind = \"bar\",title='Purchases by Hour of Day', figsize=(10, 4))\n",
    "plt.xlabel(\"Hour (0–23)\")\n",
    "plt.ylabel(\"Number of Purchases\")\n",
    "plt.savefig(\"docs/purchase_by_hour.png\")\n",
    "plt.show()"
   ]
  },
  {
   "cell_type": "code",
   "execution_count": 330,
   "id": "ef398fec",
   "metadata": {},
   "outputs": [
    {
     "data": {
      "image/png": "[encoded data removed]",
      "text/plain": [
       "<Figure size 800x400 with 1 Axes>"
      ]
     },
     "metadata": {},
     "output_type": "display_data"
    }
   ],
   "source": [
    "# Plot weekly purchase trend\n",
    "purchases_by_day.plot(kind = \"bar\",title='Purchases by Day of Week', figsize=(8, 4))\n",
    "plt.xlabel(\"Day of Week\")\n",
    "plt.ylabel(\"Number of Purchases\")\n",
    "plt.savefig(\"docs/purchase_by_day.png\")\n",
    "plt.show()"
   ]
  },
  {
   "cell_type": "markdown",
   "id": "76ba0109",
   "metadata": {},
   "source": [
    "#### Funnel Duration (Time to Conversion)\n",
    "##### Goal: Understand how long it takes a user to convert from their first recorded session to their final purchase"
   ]
  },
  {
   "cell_type": "code",
   "execution_count": 238,
   "id": "031c17cc",
   "metadata": {},
   "outputs": [
    {
     "data": {
      "text/html": [
       "<div>\n",
       "<style scoped>\n",
       "    .dataframe tbody tr th:only-of-type {\n",
       "        vertical-align: middle;\n",
       "    }\n",
       "\n",
       "    .dataframe tbody tr th {\n",
       "        vertical-align: top;\n",
       "    }\n",
       "\n",
       "    .dataframe thead th {\n",
       "        text-align: right;\n",
       "    }\n",
       "</style>\n",
       "<table border=\"1\" class=\"dataframe\">\n",
       "  <thead>\n",
       "    <tr style=\"text-align: right;\">\n",
       "      <th></th>\n",
       "      <th>page_name</th>\n",
       "      <th>timestamp</th>\n",
       "    </tr>\n",
       "  </thead>\n",
       "  <tbody>\n",
       "    <tr>\n",
       "      <th>0</th>\n",
       "      <td>homepage</td>\n",
       "      <td>2024-05-03 11:19:00</td>\n",
       "    </tr>\n",
       "    <tr>\n",
       "      <th>1</th>\n",
       "      <td>product_page</td>\n",
       "      <td>2024-05-03 11:21:00</td>\n",
       "    </tr>\n",
       "    <tr>\n",
       "      <th>2</th>\n",
       "      <td>cart</td>\n",
       "      <td>2024-05-03 11:23:00</td>\n",
       "    </tr>\n",
       "    <tr>\n",
       "      <th>3</th>\n",
       "      <td>checkout</td>\n",
       "      <td>2024-05-03 11:34:00</td>\n",
       "    </tr>\n",
       "    <tr>\n",
       "      <th>4</th>\n",
       "      <td>homepage</td>\n",
       "      <td>2024-05-02 14:48:00</td>\n",
       "    </tr>\n",
       "  </tbody>\n",
       "</table>\n",
       "</div>"
      ],
      "text/plain": [
       "      page_name           timestamp\n",
       "0      homepage 2024-05-03 11:19:00\n",
       "1  product_page 2024-05-03 11:21:00\n",
       "2          cart 2024-05-03 11:23:00\n",
       "3      checkout 2024-05-03 11:34:00\n",
       "4      homepage 2024-05-02 14:48:00"
      ]
     },
     "execution_count": 238,
     "metadata": {},
     "output_type": "execute_result"
    }
   ],
   "source": [
    "final_data[[\"page_name\",\"timestamp\"]].head()"
   ]
  },
  {
   "cell_type": "code",
   "execution_count": 244,
   "id": "86c4fa14",
   "metadata": {},
   "outputs": [
    {
     "data": {
      "text/html": [
       "<div>\n",
       "<style scoped>\n",
       "    .dataframe tbody tr th:only-of-type {\n",
       "        vertical-align: middle;\n",
       "    }\n",
       "\n",
       "    .dataframe tbody tr th {\n",
       "        vertical-align: top;\n",
       "    }\n",
       "\n",
       "    .dataframe thead th {\n",
       "        text-align: right;\n",
       "    }\n",
       "</style>\n",
       "<table border=\"1\" class=\"dataframe\">\n",
       "  <thead>\n",
       "    <tr style=\"text-align: right;\">\n",
       "      <th></th>\n",
       "      <th>user_id</th>\n",
       "      <th>timestamp</th>\n",
       "    </tr>\n",
       "  </thead>\n",
       "  <tbody>\n",
       "    <tr>\n",
       "      <th>0</th>\n",
       "      <td>U001</td>\n",
       "      <td>2024-05-01 10:31:00</td>\n",
       "    </tr>\n",
       "    <tr>\n",
       "      <th>1</th>\n",
       "      <td>U002</td>\n",
       "      <td>2024-05-01 08:33:00</td>\n",
       "    </tr>\n",
       "    <tr>\n",
       "      <th>2</th>\n",
       "      <td>U003</td>\n",
       "      <td>2024-05-01 13:06:00</td>\n",
       "    </tr>\n",
       "    <tr>\n",
       "      <th>3</th>\n",
       "      <td>U004</td>\n",
       "      <td>2024-05-01 11:45:00</td>\n",
       "    </tr>\n",
       "    <tr>\n",
       "      <th>4</th>\n",
       "      <td>U005</td>\n",
       "      <td>2024-05-01 10:42:00</td>\n",
       "    </tr>\n",
       "  </tbody>\n",
       "</table>\n",
       "</div>"
      ],
      "text/plain": [
       "  user_id           timestamp\n",
       "0    U001 2024-05-01 10:31:00\n",
       "1    U002 2024-05-01 08:33:00\n",
       "2    U003 2024-05-01 13:06:00\n",
       "3    U004 2024-05-01 11:45:00\n",
       "4    U005 2024-05-01 10:42:00"
      ]
     },
     "execution_count": 244,
     "metadata": {},
     "output_type": "execute_result"
    }
   ],
   "source": [
    "#Get First Timestamp per User\n",
    "##i.e To find the earliest event \"timestamp\" for each \"user id\".\n",
    "first_touch = final_data.groupby(\"user_id\")[\"timestamp\"].min().reset_index()\n",
    "first_touch.head()"
   ]
  },
  {
   "cell_type": "code",
   "execution_count": 246,
   "id": "b43635cc",
   "metadata": {},
   "outputs": [],
   "source": [
    "#Rename the timestamp to \"first_touch_time\"\n",
    "first_touch.rename(columns={\"timestamp\": \"first_touch_time\"}, inplace=True)"
   ]
  },
  {
   "cell_type": "code",
   "execution_count": 247,
   "id": "1764c16d",
   "metadata": {},
   "outputs": [
    {
     "data": {
      "text/html": [
       "<div>\n",
       "<style scoped>\n",
       "    .dataframe tbody tr th:only-of-type {\n",
       "        vertical-align: middle;\n",
       "    }\n",
       "\n",
       "    .dataframe tbody tr th {\n",
       "        vertical-align: top;\n",
       "    }\n",
       "\n",
       "    .dataframe thead th {\n",
       "        text-align: right;\n",
       "    }\n",
       "</style>\n",
       "<table border=\"1\" class=\"dataframe\">\n",
       "  <thead>\n",
       "    <tr style=\"text-align: right;\">\n",
       "      <th></th>\n",
       "      <th>user_id</th>\n",
       "      <th>first_touch_time</th>\n",
       "    </tr>\n",
       "  </thead>\n",
       "  <tbody>\n",
       "    <tr>\n",
       "      <th>0</th>\n",
       "      <td>U001</td>\n",
       "      <td>2024-05-01 10:31:00</td>\n",
       "    </tr>\n",
       "    <tr>\n",
       "      <th>1</th>\n",
       "      <td>U002</td>\n",
       "      <td>2024-05-01 08:33:00</td>\n",
       "    </tr>\n",
       "    <tr>\n",
       "      <th>2</th>\n",
       "      <td>U003</td>\n",
       "      <td>2024-05-01 13:06:00</td>\n",
       "    </tr>\n",
       "    <tr>\n",
       "      <th>3</th>\n",
       "      <td>U004</td>\n",
       "      <td>2024-05-01 11:45:00</td>\n",
       "    </tr>\n",
       "    <tr>\n",
       "      <th>4</th>\n",
       "      <td>U005</td>\n",
       "      <td>2024-05-01 10:42:00</td>\n",
       "    </tr>\n",
       "  </tbody>\n",
       "</table>\n",
       "</div>"
      ],
      "text/plain": [
       "  user_id    first_touch_time\n",
       "0    U001 2024-05-01 10:31:00\n",
       "1    U002 2024-05-01 08:33:00\n",
       "2    U003 2024-05-01 13:06:00\n",
       "3    U004 2024-05-01 11:45:00\n",
       "4    U005 2024-05-01 10:42:00"
      ]
     },
     "execution_count": 247,
     "metadata": {},
     "output_type": "execute_result"
    }
   ],
   "source": [
    "first_touch.head()"
   ]
  },
  {
   "cell_type": "code",
   "execution_count": 245,
   "id": "562d8842",
   "metadata": {},
   "outputs": [
    {
     "data": {
      "text/html": [
       "<div>\n",
       "<style scoped>\n",
       "    .dataframe tbody tr th:only-of-type {\n",
       "        vertical-align: middle;\n",
       "    }\n",
       "\n",
       "    .dataframe tbody tr th {\n",
       "        vertical-align: top;\n",
       "    }\n",
       "\n",
       "    .dataframe thead th {\n",
       "        text-align: right;\n",
       "    }\n",
       "</style>\n",
       "<table border=\"1\" class=\"dataframe\">\n",
       "  <thead>\n",
       "    <tr style=\"text-align: right;\">\n",
       "      <th></th>\n",
       "      <th>user_id</th>\n",
       "      <th>session_id</th>\n",
       "      <th>timestamp</th>\n",
       "      <th>page_name</th>\n",
       "      <th>event_type</th>\n",
       "      <th>product_id</th>\n",
       "      <th>device_type</th>\n",
       "      <th>traffic_source</th>\n",
       "      <th>user_type</th>\n",
       "      <th>location</th>\n",
       "      <th>order_id</th>\n",
       "      <th>order_amount</th>\n",
       "    </tr>\n",
       "  </thead>\n",
       "  <tbody>\n",
       "    <tr>\n",
       "      <th>0</th>\n",
       "      <td>U001</td>\n",
       "      <td>9979256b</td>\n",
       "      <td>2024-05-03 11:19:00</td>\n",
       "      <td>homepage</td>\n",
       "      <td>page_view</td>\n",
       "      <td>Unknown</td>\n",
       "      <td>tablet</td>\n",
       "      <td>paid_search</td>\n",
       "      <td>new</td>\n",
       "      <td>Suriname</td>\n",
       "      <td>NaN</td>\n",
       "      <td>NaN</td>\n",
       "    </tr>\n",
       "  </tbody>\n",
       "</table>\n",
       "</div>"
      ],
      "text/plain": [
       "  user_id session_id           timestamp page_name event_type product_id  \\\n",
       "0    U001   9979256b 2024-05-03 11:19:00  homepage  page_view    Unknown   \n",
       "\n",
       "  device_type traffic_source user_type  location order_id  order_amount  \n",
       "0      tablet    paid_search       new  Suriname      NaN           NaN  "
      ]
     },
     "execution_count": 245,
     "metadata": {},
     "output_type": "execute_result"
    }
   ],
   "source": [
    "final_data.head(1)"
   ]
  },
  {
   "cell_type": "markdown",
   "id": "3ccc4b53",
   "metadata": {},
   "source": [
    "#### Get Each User’s Purchase Timestamp\n",
    "##### Time user id actually purchased from the clean_purchase data\n"
   ]
  },
  {
   "cell_type": "code",
   "execution_count": 253,
   "id": "bdc4b47d",
   "metadata": {},
   "outputs": [],
   "source": [
    "purchase_time = clean_purchases[[\"user_id\", \"timestamp\"]].copy()"
   ]
  },
  {
   "cell_type": "code",
   "execution_count": 254,
   "id": "04615823",
   "metadata": {},
   "outputs": [],
   "source": [
    "#Rename \"timestamp\" to \"purchase_time\"\n",
    "purchase_time.rename(columns={\"timestamp\": \"purchase_time\"}, inplace=True)"
   ]
  },
  {
   "cell_type": "code",
   "execution_count": 255,
   "id": "b52bad63",
   "metadata": {},
   "outputs": [
    {
     "data": {
      "text/html": [
       "<div>\n",
       "<style scoped>\n",
       "    .dataframe tbody tr th:only-of-type {\n",
       "        vertical-align: middle;\n",
       "    }\n",
       "\n",
       "    .dataframe tbody tr th {\n",
       "        vertical-align: top;\n",
       "    }\n",
       "\n",
       "    .dataframe thead th {\n",
       "        text-align: right;\n",
       "    }\n",
       "</style>\n",
       "<table border=\"1\" class=\"dataframe\">\n",
       "  <thead>\n",
       "    <tr style=\"text-align: right;\">\n",
       "      <th></th>\n",
       "      <th>user_id</th>\n",
       "      <th>purchase_time</th>\n",
       "    </tr>\n",
       "  </thead>\n",
       "  <tbody>\n",
       "    <tr>\n",
       "      <th>21</th>\n",
       "      <td>U001</td>\n",
       "      <td>2024-05-01 20:37:00</td>\n",
       "    </tr>\n",
       "    <tr>\n",
       "      <th>110</th>\n",
       "      <td>U003</td>\n",
       "      <td>2024-05-03 08:49:00</td>\n",
       "    </tr>\n",
       "    <tr>\n",
       "      <th>314</th>\n",
       "      <td>U007</td>\n",
       "      <td>2024-05-02 22:21:00</td>\n",
       "    </tr>\n",
       "    <tr>\n",
       "      <th>444</th>\n",
       "      <td>U009</td>\n",
       "      <td>2024-05-03 22:07:00</td>\n",
       "    </tr>\n",
       "    <tr>\n",
       "      <th>449</th>\n",
       "      <td>U009</td>\n",
       "      <td>2024-05-02 12:06:00</td>\n",
       "    </tr>\n",
       "  </tbody>\n",
       "</table>\n",
       "</div>"
      ],
      "text/plain": [
       "    user_id       purchase_time\n",
       "21     U001 2024-05-01 20:37:00\n",
       "110    U003 2024-05-03 08:49:00\n",
       "314    U007 2024-05-02 22:21:00\n",
       "444    U009 2024-05-03 22:07:00\n",
       "449    U009 2024-05-02 12:06:00"
      ]
     },
     "execution_count": 255,
     "metadata": {},
     "output_type": "execute_result"
    }
   ],
   "source": [
    "purchase_time.head()"
   ]
  },
  {
   "cell_type": "markdown",
   "id": "5faf560f",
   "metadata": {},
   "source": [
    "##### Now we merge first_touch and purchase_time to compare how long each user took to convert."
   ]
  },
  {
   "cell_type": "code",
   "execution_count": 258,
   "id": "be967f10",
   "metadata": {},
   "outputs": [
    {
     "data": {
      "text/html": [
       "<div>\n",
       "<style scoped>\n",
       "    .dataframe tbody tr th:only-of-type {\n",
       "        vertical-align: middle;\n",
       "    }\n",
       "\n",
       "    .dataframe tbody tr th {\n",
       "        vertical-align: top;\n",
       "    }\n",
       "\n",
       "    .dataframe thead th {\n",
       "        text-align: right;\n",
       "    }\n",
       "</style>\n",
       "<table border=\"1\" class=\"dataframe\">\n",
       "  <thead>\n",
       "    <tr style=\"text-align: right;\">\n",
       "      <th></th>\n",
       "      <th>user_id</th>\n",
       "      <th>purchase_time</th>\n",
       "      <th>first_touch_time</th>\n",
       "    </tr>\n",
       "  </thead>\n",
       "  <tbody>\n",
       "    <tr>\n",
       "      <th>0</th>\n",
       "      <td>U001</td>\n",
       "      <td>2024-05-01 20:37:00</td>\n",
       "      <td>2024-05-01 10:31:00</td>\n",
       "    </tr>\n",
       "    <tr>\n",
       "      <th>1</th>\n",
       "      <td>U003</td>\n",
       "      <td>2024-05-03 08:49:00</td>\n",
       "      <td>2024-05-01 13:06:00</td>\n",
       "    </tr>\n",
       "    <tr>\n",
       "      <th>2</th>\n",
       "      <td>U007</td>\n",
       "      <td>2024-05-02 22:21:00</td>\n",
       "      <td>2024-05-01 08:59:00</td>\n",
       "    </tr>\n",
       "    <tr>\n",
       "      <th>3</th>\n",
       "      <td>U009</td>\n",
       "      <td>2024-05-03 22:07:00</td>\n",
       "      <td>2024-05-01 13:22:00</td>\n",
       "    </tr>\n",
       "    <tr>\n",
       "      <th>4</th>\n",
       "      <td>U009</td>\n",
       "      <td>2024-05-02 12:06:00</td>\n",
       "      <td>2024-05-01 13:22:00</td>\n",
       "    </tr>\n",
       "    <tr>\n",
       "      <th>...</th>\n",
       "      <td>...</td>\n",
       "      <td>...</td>\n",
       "      <td>...</td>\n",
       "    </tr>\n",
       "    <tr>\n",
       "      <th>129</th>\n",
       "      <td>U196</td>\n",
       "      <td>2024-05-03 16:01:00</td>\n",
       "      <td>2024-05-01 10:39:00</td>\n",
       "    </tr>\n",
       "    <tr>\n",
       "      <th>130</th>\n",
       "      <td>U197</td>\n",
       "      <td>2024-05-02 11:55:00</td>\n",
       "      <td>2024-05-01 09:03:00</td>\n",
       "    </tr>\n",
       "    <tr>\n",
       "      <th>131</th>\n",
       "      <td>U198</td>\n",
       "      <td>2024-05-02 18:31:00</td>\n",
       "      <td>2024-05-01 08:21:00</td>\n",
       "    </tr>\n",
       "    <tr>\n",
       "      <th>132</th>\n",
       "      <td>U200</td>\n",
       "      <td>2024-05-03 12:41:00</td>\n",
       "      <td>2024-05-01 08:28:00</td>\n",
       "    </tr>\n",
       "    <tr>\n",
       "      <th>133</th>\n",
       "      <td>U200</td>\n",
       "      <td>2024-05-02 09:09:00</td>\n",
       "      <td>2024-05-01 08:28:00</td>\n",
       "    </tr>\n",
       "  </tbody>\n",
       "</table>\n",
       "<p>134 rows × 3 columns</p>\n",
       "</div>"
      ],
      "text/plain": [
       "    user_id       purchase_time    first_touch_time\n",
       "0      U001 2024-05-01 20:37:00 2024-05-01 10:31:00\n",
       "1      U003 2024-05-03 08:49:00 2024-05-01 13:06:00\n",
       "2      U007 2024-05-02 22:21:00 2024-05-01 08:59:00\n",
       "3      U009 2024-05-03 22:07:00 2024-05-01 13:22:00\n",
       "4      U009 2024-05-02 12:06:00 2024-05-01 13:22:00\n",
       "..      ...                 ...                 ...\n",
       "129    U196 2024-05-03 16:01:00 2024-05-01 10:39:00\n",
       "130    U197 2024-05-02 11:55:00 2024-05-01 09:03:00\n",
       "131    U198 2024-05-02 18:31:00 2024-05-01 08:21:00\n",
       "132    U200 2024-05-03 12:41:00 2024-05-01 08:28:00\n",
       "133    U200 2024-05-02 09:09:00 2024-05-01 08:28:00\n",
       "\n",
       "[134 rows x 3 columns]"
      ]
     },
     "execution_count": 258,
     "metadata": {},
     "output_type": "execute_result"
    }
   ],
   "source": [
    "#Merge First Touch (when each user first appeared on the site)\n",
    "#Purchase Time (when each user made a confirmed purchase)\n",
    "conversion_journey = pd.merge(purchase_time, first_touch,on = \"user_id\", how = \"inner\")\n",
    "conversion_journey"
   ]
  },
  {
   "cell_type": "code",
   "execution_count": 259,
   "id": "b331bc9b",
   "metadata": {},
   "outputs": [],
   "source": [
    "# Calculate Time to Convert\n",
    "conversion_journey[\"time_to_convert\"] = conversion_journey[\"purchase_time\"] - conversion_journey[\"first_touch_time\"]"
   ]
  },
  {
   "cell_type": "code",
   "execution_count": 260,
   "id": "64f97efb",
   "metadata": {},
   "outputs": [
    {
     "data": {
      "text/html": [
       "<div>\n",
       "<style scoped>\n",
       "    .dataframe tbody tr th:only-of-type {\n",
       "        vertical-align: middle;\n",
       "    }\n",
       "\n",
       "    .dataframe tbody tr th {\n",
       "        vertical-align: top;\n",
       "    }\n",
       "\n",
       "    .dataframe thead th {\n",
       "        text-align: right;\n",
       "    }\n",
       "</style>\n",
       "<table border=\"1\" class=\"dataframe\">\n",
       "  <thead>\n",
       "    <tr style=\"text-align: right;\">\n",
       "      <th></th>\n",
       "      <th>user_id</th>\n",
       "      <th>purchase_time</th>\n",
       "      <th>first_touch_time</th>\n",
       "      <th>time_to_convert</th>\n",
       "    </tr>\n",
       "  </thead>\n",
       "  <tbody>\n",
       "    <tr>\n",
       "      <th>0</th>\n",
       "      <td>U001</td>\n",
       "      <td>2024-05-01 20:37:00</td>\n",
       "      <td>2024-05-01 10:31:00</td>\n",
       "      <td>0 days 10:06:00</td>\n",
       "    </tr>\n",
       "    <tr>\n",
       "      <th>1</th>\n",
       "      <td>U003</td>\n",
       "      <td>2024-05-03 08:49:00</td>\n",
       "      <td>2024-05-01 13:06:00</td>\n",
       "      <td>1 days 19:43:00</td>\n",
       "    </tr>\n",
       "    <tr>\n",
       "      <th>2</th>\n",
       "      <td>U007</td>\n",
       "      <td>2024-05-02 22:21:00</td>\n",
       "      <td>2024-05-01 08:59:00</td>\n",
       "      <td>1 days 13:22:00</td>\n",
       "    </tr>\n",
       "    <tr>\n",
       "      <th>3</th>\n",
       "      <td>U009</td>\n",
       "      <td>2024-05-03 22:07:00</td>\n",
       "      <td>2024-05-01 13:22:00</td>\n",
       "      <td>2 days 08:45:00</td>\n",
       "    </tr>\n",
       "    <tr>\n",
       "      <th>4</th>\n",
       "      <td>U009</td>\n",
       "      <td>2024-05-02 12:06:00</td>\n",
       "      <td>2024-05-01 13:22:00</td>\n",
       "      <td>0 days 22:44:00</td>\n",
       "    </tr>\n",
       "    <tr>\n",
       "      <th>...</th>\n",
       "      <td>...</td>\n",
       "      <td>...</td>\n",
       "      <td>...</td>\n",
       "      <td>...</td>\n",
       "    </tr>\n",
       "    <tr>\n",
       "      <th>129</th>\n",
       "      <td>U196</td>\n",
       "      <td>2024-05-03 16:01:00</td>\n",
       "      <td>2024-05-01 10:39:00</td>\n",
       "      <td>2 days 05:22:00</td>\n",
       "    </tr>\n",
       "    <tr>\n",
       "      <th>130</th>\n",
       "      <td>U197</td>\n",
       "      <td>2024-05-02 11:55:00</td>\n",
       "      <td>2024-05-01 09:03:00</td>\n",
       "      <td>1 days 02:52:00</td>\n",
       "    </tr>\n",
       "    <tr>\n",
       "      <th>131</th>\n",
       "      <td>U198</td>\n",
       "      <td>2024-05-02 18:31:00</td>\n",
       "      <td>2024-05-01 08:21:00</td>\n",
       "      <td>1 days 10:10:00</td>\n",
       "    </tr>\n",
       "    <tr>\n",
       "      <th>132</th>\n",
       "      <td>U200</td>\n",
       "      <td>2024-05-03 12:41:00</td>\n",
       "      <td>2024-05-01 08:28:00</td>\n",
       "      <td>2 days 04:13:00</td>\n",
       "    </tr>\n",
       "    <tr>\n",
       "      <th>133</th>\n",
       "      <td>U200</td>\n",
       "      <td>2024-05-02 09:09:00</td>\n",
       "      <td>2024-05-01 08:28:00</td>\n",
       "      <td>1 days 00:41:00</td>\n",
       "    </tr>\n",
       "  </tbody>\n",
       "</table>\n",
       "<p>134 rows × 4 columns</p>\n",
       "</div>"
      ],
      "text/plain": [
       "    user_id       purchase_time    first_touch_time time_to_convert\n",
       "0      U001 2024-05-01 20:37:00 2024-05-01 10:31:00 0 days 10:06:00\n",
       "1      U003 2024-05-03 08:49:00 2024-05-01 13:06:00 1 days 19:43:00\n",
       "2      U007 2024-05-02 22:21:00 2024-05-01 08:59:00 1 days 13:22:00\n",
       "3      U009 2024-05-03 22:07:00 2024-05-01 13:22:00 2 days 08:45:00\n",
       "4      U009 2024-05-02 12:06:00 2024-05-01 13:22:00 0 days 22:44:00\n",
       "..      ...                 ...                 ...             ...\n",
       "129    U196 2024-05-03 16:01:00 2024-05-01 10:39:00 2 days 05:22:00\n",
       "130    U197 2024-05-02 11:55:00 2024-05-01 09:03:00 1 days 02:52:00\n",
       "131    U198 2024-05-02 18:31:00 2024-05-01 08:21:00 1 days 10:10:00\n",
       "132    U200 2024-05-03 12:41:00 2024-05-01 08:28:00 2 days 04:13:00\n",
       "133    U200 2024-05-02 09:09:00 2024-05-01 08:28:00 1 days 00:41:00\n",
       "\n",
       "[134 rows x 4 columns]"
      ]
     },
     "execution_count": 260,
     "metadata": {},
     "output_type": "execute_result"
    }
   ],
   "source": [
    "conversion_journey"
   ]
  },
  {
   "cell_type": "code",
   "execution_count": 264,
   "id": "469c0def",
   "metadata": {},
   "outputs": [],
   "source": [
    "#Convert to Hours\n",
    "conversion_journey[\"hours_to_convert\"] = conversion_journey[\"time_to_convert\"].dt.total_seconds() / 3600"
   ]
  },
  {
   "cell_type": "code",
   "execution_count": 265,
   "id": "1b2ab252",
   "metadata": {},
   "outputs": [
    {
     "data": {
      "text/html": [
       "<div>\n",
       "<style scoped>\n",
       "    .dataframe tbody tr th:only-of-type {\n",
       "        vertical-align: middle;\n",
       "    }\n",
       "\n",
       "    .dataframe tbody tr th {\n",
       "        vertical-align: top;\n",
       "    }\n",
       "\n",
       "    .dataframe thead th {\n",
       "        text-align: right;\n",
       "    }\n",
       "</style>\n",
       "<table border=\"1\" class=\"dataframe\">\n",
       "  <thead>\n",
       "    <tr style=\"text-align: right;\">\n",
       "      <th></th>\n",
       "      <th>user_id</th>\n",
       "      <th>purchase_time</th>\n",
       "      <th>first_touch_time</th>\n",
       "      <th>time_to_convert</th>\n",
       "      <th>hours_to_convert</th>\n",
       "    </tr>\n",
       "  </thead>\n",
       "  <tbody>\n",
       "    <tr>\n",
       "      <th>0</th>\n",
       "      <td>U001</td>\n",
       "      <td>2024-05-01 20:37:00</td>\n",
       "      <td>2024-05-01 10:31:00</td>\n",
       "      <td>0 days 10:06:00</td>\n",
       "      <td>10.100000</td>\n",
       "    </tr>\n",
       "    <tr>\n",
       "      <th>1</th>\n",
       "      <td>U003</td>\n",
       "      <td>2024-05-03 08:49:00</td>\n",
       "      <td>2024-05-01 13:06:00</td>\n",
       "      <td>1 days 19:43:00</td>\n",
       "      <td>43.716667</td>\n",
       "    </tr>\n",
       "    <tr>\n",
       "      <th>2</th>\n",
       "      <td>U007</td>\n",
       "      <td>2024-05-02 22:21:00</td>\n",
       "      <td>2024-05-01 08:59:00</td>\n",
       "      <td>1 days 13:22:00</td>\n",
       "      <td>37.366667</td>\n",
       "    </tr>\n",
       "    <tr>\n",
       "      <th>3</th>\n",
       "      <td>U009</td>\n",
       "      <td>2024-05-03 22:07:00</td>\n",
       "      <td>2024-05-01 13:22:00</td>\n",
       "      <td>2 days 08:45:00</td>\n",
       "      <td>56.750000</td>\n",
       "    </tr>\n",
       "    <tr>\n",
       "      <th>4</th>\n",
       "      <td>U009</td>\n",
       "      <td>2024-05-02 12:06:00</td>\n",
       "      <td>2024-05-01 13:22:00</td>\n",
       "      <td>0 days 22:44:00</td>\n",
       "      <td>22.733333</td>\n",
       "    </tr>\n",
       "  </tbody>\n",
       "</table>\n",
       "</div>"
      ],
      "text/plain": [
       "  user_id       purchase_time    first_touch_time time_to_convert  \\\n",
       "0    U001 2024-05-01 20:37:00 2024-05-01 10:31:00 0 days 10:06:00   \n",
       "1    U003 2024-05-03 08:49:00 2024-05-01 13:06:00 1 days 19:43:00   \n",
       "2    U007 2024-05-02 22:21:00 2024-05-01 08:59:00 1 days 13:22:00   \n",
       "3    U009 2024-05-03 22:07:00 2024-05-01 13:22:00 2 days 08:45:00   \n",
       "4    U009 2024-05-02 12:06:00 2024-05-01 13:22:00 0 days 22:44:00   \n",
       "\n",
       "   hours_to_convert  \n",
       "0         10.100000  \n",
       "1         43.716667  \n",
       "2         37.366667  \n",
       "3         56.750000  \n",
       "4         22.733333  "
      ]
     },
     "execution_count": 265,
     "metadata": {},
     "output_type": "execute_result"
    }
   ],
   "source": [
    "conversion_journey.head()"
   ]
  },
  {
   "cell_type": "code",
   "execution_count": 266,
   "id": "3b39a361",
   "metadata": {},
   "outputs": [
    {
     "data": {
      "text/html": [
       "<div>\n",
       "<style scoped>\n",
       "    .dataframe tbody tr th:only-of-type {\n",
       "        vertical-align: middle;\n",
       "    }\n",
       "\n",
       "    .dataframe tbody tr th {\n",
       "        vertical-align: top;\n",
       "    }\n",
       "\n",
       "    .dataframe thead th {\n",
       "        text-align: right;\n",
       "    }\n",
       "</style>\n",
       "<table border=\"1\" class=\"dataframe\">\n",
       "  <thead>\n",
       "    <tr style=\"text-align: right;\">\n",
       "      <th></th>\n",
       "      <th>purchase_time</th>\n",
       "      <th>first_touch_time</th>\n",
       "      <th>time_to_convert</th>\n",
       "      <th>hours_to_convert</th>\n",
       "    </tr>\n",
       "  </thead>\n",
       "  <tbody>\n",
       "    <tr>\n",
       "      <th>count</th>\n",
       "      <td>134</td>\n",
       "      <td>134</td>\n",
       "      <td>134</td>\n",
       "      <td>134.000000</td>\n",
       "    </tr>\n",
       "    <tr>\n",
       "      <th>mean</th>\n",
       "      <td>2024-05-02 16:27:21.492537344</td>\n",
       "      <td>2024-05-01 11:12:49.253731328</td>\n",
       "      <td>1 days 05:14:32.238805970</td>\n",
       "      <td>29.242289</td>\n",
       "    </tr>\n",
       "    <tr>\n",
       "      <th>min</th>\n",
       "      <td>2024-05-01 08:31:00</td>\n",
       "      <td>2024-05-01 08:04:00</td>\n",
       "      <td>0 days 00:08:00</td>\n",
       "      <td>0.133333</td>\n",
       "    </tr>\n",
       "    <tr>\n",
       "      <th>25%</th>\n",
       "      <td>2024-05-01 19:26:30</td>\n",
       "      <td>2024-05-01 08:51:00</td>\n",
       "      <td>0 days 08:03:00</td>\n",
       "      <td>8.050000</td>\n",
       "    </tr>\n",
       "    <tr>\n",
       "      <th>50%</th>\n",
       "      <td>2024-05-02 16:24:00</td>\n",
       "      <td>2024-05-01 10:00:30</td>\n",
       "      <td>1 days 05:00:00</td>\n",
       "      <td>29.000000</td>\n",
       "    </tr>\n",
       "    <tr>\n",
       "      <th>75%</th>\n",
       "      <td>2024-05-03 12:17:30</td>\n",
       "      <td>2024-05-01 12:00:45</td>\n",
       "      <td>2 days 01:47:15</td>\n",
       "      <td>49.787500</td>\n",
       "    </tr>\n",
       "    <tr>\n",
       "      <th>max</th>\n",
       "      <td>2024-05-03 22:07:00</td>\n",
       "      <td>2024-05-02 09:01:00</td>\n",
       "      <td>2 days 12:22:00</td>\n",
       "      <td>60.366667</td>\n",
       "    </tr>\n",
       "    <tr>\n",
       "      <th>std</th>\n",
       "      <td>NaN</td>\n",
       "      <td>NaN</td>\n",
       "      <td>0 days 20:11:22.255765907</td>\n",
       "      <td>20.189515</td>\n",
       "    </tr>\n",
       "  </tbody>\n",
       "</table>\n",
       "</div>"
      ],
      "text/plain": [
       "                       purchase_time               first_touch_time  \\\n",
       "count                            134                            134   \n",
       "mean   2024-05-02 16:27:21.492537344  2024-05-01 11:12:49.253731328   \n",
       "min              2024-05-01 08:31:00            2024-05-01 08:04:00   \n",
       "25%              2024-05-01 19:26:30            2024-05-01 08:51:00   \n",
       "50%              2024-05-02 16:24:00            2024-05-01 10:00:30   \n",
       "75%              2024-05-03 12:17:30            2024-05-01 12:00:45   \n",
       "max              2024-05-03 22:07:00            2024-05-02 09:01:00   \n",
       "std                              NaN                            NaN   \n",
       "\n",
       "                 time_to_convert  hours_to_convert  \n",
       "count                        134        134.000000  \n",
       "mean   1 days 05:14:32.238805970         29.242289  \n",
       "min              0 days 00:08:00          0.133333  \n",
       "25%              0 days 08:03:00          8.050000  \n",
       "50%              1 days 05:00:00         29.000000  \n",
       "75%              2 days 01:47:15         49.787500  \n",
       "max              2 days 12:22:00         60.366667  \n",
       "std    0 days 20:11:22.255765907         20.189515  "
      ]
     },
     "execution_count": 266,
     "metadata": {},
     "output_type": "execute_result"
    }
   ],
   "source": [
    "# Summary Statistics\n",
    "conversion_journey.describe()"
   ]
  },
  {
   "cell_type": "code",
   "execution_count": 321,
   "id": "a02b86b1",
   "metadata": {},
   "outputs": [],
   "source": [
    "#Save the data\n",
    "conversion_journey.to_csv(\"data/conversion_journey.csv\", index=False)"
   ]
  },
  {
   "cell_type": "code",
   "execution_count": 324,
   "id": "f48c4b34",
   "metadata": {},
   "outputs": [
    {
     "data": {
      "image/png": "[encoded data removed]",
      "text/plain": [
       "<Figure size 800x400 with 1 Axes>"
      ]
     },
     "metadata": {},
     "output_type": "display_data"
    }
   ],
   "source": [
    "# Visualize Time to Convert\n",
    "conversion_journey[\"hours_to_convert\"].plot(\n",
    "    kind='hist',\n",
    "    bins=20,\n",
    "    title='Distribution of Time to Convert (in Hours)',\n",
    "    figsize=(8, 4)\n",
    ")\n",
    "plt.xlabel(\"Hours\")\n",
    "plt.ylabel(\"Users\")\n",
    "plt.tight_layout()\n",
    "plt.savefig(\"docs/time_to_convert_hist.png\")\n",
    "plt.show()\n"
   ]
  },
  {
   "cell_type": "markdown",
   "id": "163cde1a",
   "metadata": {},
   "source": [
    "#### Summary: Funnel Duration Analysis\n",
    "Tracking how long it takes users to convert from first site visit to confirmed purchase.\n",
    "\n",
    "---\n",
    "\n",
    "##### Descriptive Statistics (Time to Convert in Hours)\n",
    "\n",
    "| Metric                | Value               |\n",
    "|-----------------------|---------------------|\n",
    "| **Total Conversions** | 134 users           |\n",
    "| **Avg. Time to Convert** | 29.2 hours       |\n",
    "| **Min Time**          | 0.13 hours (~8 min) |\n",
    "| **Median (50%)**      | 29.0 hours          |\n",
    "| **75th Percentile**   | 49.8 hours          |\n",
    "| **Max Time**          | 60.4 hours          |\n",
    "| **Standard Deviation**| 20.2 hours          |\n",
    "\n",
    "---\n",
    "\n",
    "##### 📈 Histogram Insight (Conversion Timing Distribution)\n",
    "\n",
    "- Most users convert within **8 to 30 hours**\n",
    "- A large concentration occurs in the **first 24–36 hours**\n",
    "- A small portion takes over **2 days** to complete a purchase\n",
    "\n",
    "---\n",
    "\n",
    "##### ✅ Business Insights & Recommendations\n",
    "\n",
    "- ⚡ **Fast Converters**: Some users convert in minutes — ensure checkout is quick and mobile-friendly.\n",
    "- 🕒 **Target Window**: 50% of users convert in ~29 hours — consider sending reminders/ads within this window.\n",
    "- 🐢 **Delayed Buyers**: Those taking 2+ days may need:\n",
    "  - Cart reminder emails at ~24–30 hours\n",
    "  - Retargeting ads on Day 2 or Day 3\n",
    "\n",
    "---\n"
   ]
  },
  {
   "cell_type": "markdown",
   "id": "d3d98dfc",
   "metadata": {},
   "source": [
    "##### 🧯 STEP 7: Funnel Drop-Off Insights  \n",
    "To understand how many users reach each stage of the funnel, where they drop off, and how many actually convert.\n",
    "From each page name (Funnel Step): homepage, product_page, cart, checkout, purchase"
   ]
  },
  {
   "cell_type": "code",
   "execution_count": 277,
   "id": "9c6a208a",
   "metadata": {},
   "outputs": [
    {
     "data": {
      "text/plain": [
       "page_name\n",
       "cart            200\n",
       "checkout        200\n",
       "homepage        200\n",
       "product_page    200\n",
       "purchase        198\n",
       "Name: user_id, dtype: int64"
      ]
     },
     "execution_count": 277,
     "metadata": {},
     "output_type": "execute_result"
    }
   ],
   "source": [
    "#Count Unique Users per Funnel Step\n",
    "funnel_users =final_data.groupby(\"page_name\")[\"user_id\"].nunique().sort_values(ascending=False)\n",
    "funnel_users"
   ]
  },
  {
   "cell_type": "code",
   "execution_count": 286,
   "id": "6e2648c3",
   "metadata": {},
   "outputs": [
    {
     "data": {
      "text/plain": [
       "198"
      ]
     },
     "execution_count": 286,
     "metadata": {},
     "output_type": "execute_result"
    }
   ],
   "source": [
    "#Compare purchase Page Visits vs. order_id Presence\n",
    "##To know how many users who hit the purchase page actually completed a purchase by checking for order_id.\n",
    "### Users who reached the purchase page\n",
    "users_at_purchase_page = final_data[final_data[\"page_name\"] == \"purchase\"][\"user_id\"].nunique()\n",
    "users_at_purchase_page"
   ]
  },
  {
   "cell_type": "code",
   "execution_count": 292,
   "id": "d2571abf",
   "metadata": {},
   "outputs": [
    {
     "data": {
      "text/plain": [
       "101"
      ]
     },
     "execution_count": 292,
     "metadata": {},
     "output_type": "execute_result"
    }
   ],
   "source": [
    "#Count users who actually completed a purchase (i.e., had a non-null order_id)\n",
    "true_conversions = final_data[final_data[\"order_id\"].notna()][\"user_id\"].nunique()\n",
    "true_conversions"
   ]
  },
  {
   "cell_type": "code",
   "execution_count": 294,
   "id": "a932828e",
   "metadata": {},
   "outputs": [],
   "source": [
    "#Drop-Off Rate\n",
    "drop_off = users_at_purchase_page - true_conversions  # 198 - 101 = 97\n",
    "drop_off_rate = round((drop_off / users_at_purchase_page) * 100, 2)"
   ]
  },
  {
   "cell_type": "code",
   "execution_count": 296,
   "id": "5f78cfb7",
   "metadata": {},
   "outputs": [
    {
     "name": "stdout",
     "output_type": "stream",
     "text": [
      "Users who dropped off at purchase step: 97\n",
      " The drop off rate is 48.99%\n"
     ]
    }
   ],
   "source": [
    "print(f\"Users who dropped off at purchase step: {drop_off}\")\n",
    "print(f\" The drop off rate is {drop_off_rate}%\")"
   ]
  },
  {
   "cell_type": "markdown",
   "id": "bd16ec84",
   "metadata": {},
   "source": [
    "📍 Out of 198 users who reached the purchase page,\n",
    "✅ Only 101 completed their purchase (confirmed by order_id)\n",
    "🛑 That means 97 users dropped off\n",
    "📉 Final-step drop-off rate: 48.99%\n"
   ]
  },
  {
   "cell_type": "code",
   "execution_count": 297,
   "id": "f8d4dd78",
   "metadata": {},
   "outputs": [],
   "source": [
    "#Funnel Chart (Visual Drop-Off)\n",
    "# Labels and counts from your funnel\n",
    "funnel_labels = ['Homepage', 'Product Page', 'Cart', 'Checkout', 'Purchase Page', 'Confirmed Orders']\n",
    "funnel_counts = [200, 200, 200, 200, 198, 101]"
   ]
  },
  {
   "cell_type": "code",
   "execution_count": 323,
   "id": "84b0882f",
   "metadata": {},
   "outputs": [
    {
     "data": {
      "image/png": "[encoded data removed]",
      "text/plain": [
       "<Figure size 1000x500 with 1 Axes>"
      ]
     },
     "metadata": {},
     "output_type": "display_data"
    }
   ],
   "source": [
    "#Create horizontal bar chart\n",
    "plt.figure(figsize=(10, 5))\n",
    "plt.barh(funnel_labels, funnel_counts, color='skyblue')\n",
    "plt.xlabel(\"Number of Users\")\n",
    "plt.title(\"Funnel Drop-Off Analysis\")\n",
    "plt.gca().invert_yaxis()\n",
    "plt.grid(axis='x', linestyle='--', alpha=0.6)\n",
    "plt.tight_layout()\n",
    "plt.savefig(\"docs/funnel_chart.png\")\n",
    "plt.show()\n"
   ]
  },
  {
   "cell_type": "code",
   "execution_count": null,
   "id": "a8be78d3",
   "metadata": {},
   "outputs": [],
   "source": [
    "# Create a Summary Table from \"drop_off_users\" and \"converted_users\""
   ]
  },
  {
   "cell_type": "code",
   "execution_count": 308,
   "id": "6b7c41cf",
   "metadata": {},
   "outputs": [],
   "source": [
    "# Get users who reached the purchase page\n",
    "purchase_page_users = final_data[final_data[\"page_name\"] == \"purchase\"]"
   ]
  },
  {
   "cell_type": "code",
   "execution_count": 309,
   "id": "1adfa08e",
   "metadata": {},
   "outputs": [],
   "source": [
    "# Get users who actually completed an order\n",
    "converted_users = final_data[final_data[\"order_id\"].notna()]"
   ]
  },
  {
   "cell_type": "code",
   "execution_count": 310,
   "id": "3d0b7309",
   "metadata": {},
   "outputs": [],
   "source": [
    "#Identify Users Who Dropped Off\n",
    "drop_off_users = purchase_page_users[\n",
    "    ~purchase_page_users[\"user_id\"].isin(converted_users[\"user_id\"])\n",
    "]"
   ]
  },
  {
   "cell_type": "code",
   "execution_count": 312,
   "id": "cb4cc26d",
   "metadata": {},
   "outputs": [],
   "source": [
    "#Generate the Device Summary Table\n",
    "device_summary = pd.DataFrame({\n",
    "    \"Dropped Off\": drop_off_users[\"device_type\"].value_counts(),\n",
    "    \"Converted\": converted_users[\"device_type\"].value_counts()\n",
    "}).fillna(0)"
   ]
  },
  {
   "cell_type": "code",
   "execution_count": 313,
   "id": "e3089f09",
   "metadata": {},
   "outputs": [
    {
     "data": {
      "text/html": [
       "<div>\n",
       "<style scoped>\n",
       "    .dataframe tbody tr th:only-of-type {\n",
       "        vertical-align: middle;\n",
       "    }\n",
       "\n",
       "    .dataframe tbody tr th {\n",
       "        vertical-align: top;\n",
       "    }\n",
       "\n",
       "    .dataframe thead th {\n",
       "        text-align: right;\n",
       "    }\n",
       "</style>\n",
       "<table border=\"1\" class=\"dataframe\">\n",
       "  <thead>\n",
       "    <tr style=\"text-align: right;\">\n",
       "      <th></th>\n",
       "      <th>Dropped Off</th>\n",
       "      <th>Converted</th>\n",
       "    </tr>\n",
       "    <tr>\n",
       "      <th>device_type</th>\n",
       "      <th></th>\n",
       "      <th></th>\n",
       "    </tr>\n",
       "  </thead>\n",
       "  <tbody>\n",
       "    <tr>\n",
       "      <th>desktop</th>\n",
       "      <td>97</td>\n",
       "      <td>49</td>\n",
       "    </tr>\n",
       "    <tr>\n",
       "      <th>mobile</th>\n",
       "      <td>123</td>\n",
       "      <td>58</td>\n",
       "    </tr>\n",
       "    <tr>\n",
       "      <th>tablet</th>\n",
       "      <td>94</td>\n",
       "      <td>49</td>\n",
       "    </tr>\n",
       "  </tbody>\n",
       "</table>\n",
       "</div>"
      ],
      "text/plain": [
       "             Dropped Off  Converted\n",
       "device_type                        \n",
       "desktop               97         49\n",
       "mobile               123         58\n",
       "tablet                94         49"
      ]
     },
     "execution_count": 313,
     "metadata": {},
     "output_type": "execute_result"
    }
   ],
   "source": [
    "device_summary"
   ]
  },
  {
   "cell_type": "code",
   "execution_count": 314,
   "id": "716db108",
   "metadata": {},
   "outputs": [],
   "source": [
    "#Calculate Drop-Off Rate\n",
    "device_summary[\"Drop-Off Rate (%)\"] = (\n",
    "    device_summary[\"Dropped Off\"] / \n",
    "    (device_summary[\"Dropped Off\"] + device_summary[\"Converted\"]) * 100\n",
    ").round(2)\n"
   ]
  },
  {
   "cell_type": "code",
   "execution_count": 315,
   "id": "59fc2233",
   "metadata": {},
   "outputs": [
    {
     "data": {
      "text/html": [
       "<div>\n",
       "<style scoped>\n",
       "    .dataframe tbody tr th:only-of-type {\n",
       "        vertical-align: middle;\n",
       "    }\n",
       "\n",
       "    .dataframe tbody tr th {\n",
       "        vertical-align: top;\n",
       "    }\n",
       "\n",
       "    .dataframe thead th {\n",
       "        text-align: right;\n",
       "    }\n",
       "</style>\n",
       "<table border=\"1\" class=\"dataframe\">\n",
       "  <thead>\n",
       "    <tr style=\"text-align: right;\">\n",
       "      <th></th>\n",
       "      <th>Dropped Off</th>\n",
       "      <th>Converted</th>\n",
       "      <th>Drop-Off Rate (%)</th>\n",
       "    </tr>\n",
       "    <tr>\n",
       "      <th>device_type</th>\n",
       "      <th></th>\n",
       "      <th></th>\n",
       "      <th></th>\n",
       "    </tr>\n",
       "  </thead>\n",
       "  <tbody>\n",
       "    <tr>\n",
       "      <th>desktop</th>\n",
       "      <td>97</td>\n",
       "      <td>49</td>\n",
       "      <td>66.44</td>\n",
       "    </tr>\n",
       "    <tr>\n",
       "      <th>mobile</th>\n",
       "      <td>123</td>\n",
       "      <td>58</td>\n",
       "      <td>67.96</td>\n",
       "    </tr>\n",
       "    <tr>\n",
       "      <th>tablet</th>\n",
       "      <td>94</td>\n",
       "      <td>49</td>\n",
       "      <td>65.73</td>\n",
       "    </tr>\n",
       "  </tbody>\n",
       "</table>\n",
       "</div>"
      ],
      "text/plain": [
       "             Dropped Off  Converted  Drop-Off Rate (%)\n",
       "device_type                                           \n",
       "desktop               97         49              66.44\n",
       "mobile               123         58              67.96\n",
       "tablet                94         49              65.73"
      ]
     },
     "execution_count": 315,
     "metadata": {},
     "output_type": "execute_result"
    }
   ],
   "source": [
    "device_summary"
   ]
  },
  {
   "cell_type": "code",
   "execution_count": 322,
   "id": "2adaf8c3",
   "metadata": {},
   "outputs": [],
   "source": [
    "#Save device summary.\n",
    "device_summary.to_csv(\"data/device_summary.csv\", index = False)"
   ]
  },
  {
   "cell_type": "markdown",
   "id": "2e32ea6f",
   "metadata": {},
   "source": [
    "#### Funnel Drop-Off Analysis\n",
    "\n",
    "##### 🎯 Objective\n",
    "To identify how many users drop off at each stage of the e-commerce funnel — from landing to confirmed purchase — and where optimization is most needed.\n",
    "\n",
    "---\n",
    "\n",
    "##### 📊 Funnel Breakdown by Stage\n",
    "\n",
    "| Funnel Step       | Unique Users |\n",
    "|-------------------|--------------|\n",
    "| Homepage          | 200          |\n",
    "| Product Page      | 200          |\n",
    "| Cart              | 200          |\n",
    "| Checkout          | 200          |\n",
    "| Purchase Page     | 198          |\n",
    "| ✅ Confirmed Orders | 101          |\n",
    "\n",
    "- 198 users reached the purchase page\n",
    "- Only 101 users completed a purchase (`order_id` present)\n",
    "- 📉 **Final-step drop-off rate:** 48.99% (i.e., 97 users exited after reaching purchase page)\n",
    "\n",
    "---\n",
    "\n",
    "##### 🔍 Device-Based Drop-Off Summary\n",
    "\n",
    "| Device Type | Dropped Off | Converted | Drop-Off Rate (%) |\n",
    "|-------------|-------------|-----------|--------------------|\n",
    "| **desktop** | 97          | 49        | 66.44%             |\n",
    "| **mobile**  | 123         | 58        | 67.96%             |\n",
    "| **tablet**  | 94          | 49        | 65.73%             |\n",
    "\n",
    "**Insights:**\n",
    "- 🚨 All devices show high drop-off at the final step (65%–68%)\n",
    "- 📱 Mobile users dropped off most (123), suggesting potential usability or trust issues\n",
    "- 🖥️ Desktop users performed slightly better but still lost 66% of buyers\n",
    "- 📲 Consider device-specific A/B testing on the checkout page\n",
    "\n",
    "---\n",
    "\n",
    "##### ✅ Key Takeaways\n",
    "\n",
    "- Despite strong interest (198 users reached the purchase page), only 101 converted.\n",
    "- That’s nearly **1 in 2 users abandoning at the final step**.\n",
    "- Segmenting by `device_type` exposes usability gaps that are hidden in the overall metric.\n",
    "- Recommendation: prioritize checkout UX audits for mobile and tablet users.\n",
    "\n",
    "---"
   ]
  }
 ],
 "metadata": {
  "kernelspec": {
   "display_name": "Python 3 (ipykernel)",
   "language": "python",
   "name": "python3"
  },
  "language_info": {
   "codemirror_mode": {
    "name": "ipython",
    "version": 3
   },
   "file_extension": ".py",
   "mimetype": "text/x-python",
   "name": "python",
   "nbconvert_exporter": "python",
   "pygments_lexer": "ipython3",
   "version": "3.10.16"
  }
 },
 "nbformat": 4,
 "nbformat_minor": 5
}
